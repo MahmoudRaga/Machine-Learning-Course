{
 "cells": [
  {
   "cell_type": "code",
   "execution_count": 1,
   "id": "a3d0003f",
   "metadata": {},
   "outputs": [],
   "source": [
    "import numpy as np"
   ]
  },
  {
   "cell_type": "markdown",
   "id": "c32d1ecf",
   "metadata": {},
   "source": [
    "# numpy array function"
   ]
  },
  {
   "cell_type": "code",
   "execution_count": 2,
   "id": "a1963a14",
   "metadata": {},
   "outputs": [],
   "source": [
    "ls_1 = [1,2,3,4]"
   ]
  },
  {
   "cell_type": "code",
   "execution_count": 3,
   "id": "9e1713b4",
   "metadata": {},
   "outputs": [],
   "source": [
    "array_1 = np.array(ls_1)"
   ]
  },
  {
   "cell_type": "code",
   "execution_count": 4,
   "id": "28ba4a8d",
   "metadata": {},
   "outputs": [
    {
     "name": "stdout",
     "output_type": "stream",
     "text": [
      "[1, 2, 3, 4]\n"
     ]
    }
   ],
   "source": [
    "print(ls_1)"
   ]
  },
  {
   "cell_type": "code",
   "execution_count": 5,
   "id": "871d7abf",
   "metadata": {},
   "outputs": [
    {
     "name": "stdout",
     "output_type": "stream",
     "text": [
      "[1 2 3 4]\n"
     ]
    }
   ],
   "source": [
    "print (array_1)"
   ]
  },
  {
   "cell_type": "code",
   "execution_count": 6,
   "id": "5b2a7d39",
   "metadata": {},
   "outputs": [],
   "source": [
    "ls_2 = [[1,2,3,4],[5,6,7,8],[9,10,11,12]]"
   ]
  },
  {
   "cell_type": "code",
   "execution_count": 7,
   "id": "72311db7",
   "metadata": {},
   "outputs": [],
   "source": [
    "array_2 = np.array (ls_2)"
   ]
  },
  {
   "cell_type": "code",
   "execution_count": 8,
   "id": "e1bbbbac",
   "metadata": {},
   "outputs": [
    {
     "name": "stdout",
     "output_type": "stream",
     "text": [
      "[[1, 2, 3, 4], [5, 6, 7, 8], [9, 10, 11, 12]]\n"
     ]
    }
   ],
   "source": [
    "print (ls_2)"
   ]
  },
  {
   "cell_type": "code",
   "execution_count": 9,
   "id": "170fec76",
   "metadata": {},
   "outputs": [
    {
     "name": "stdout",
     "output_type": "stream",
     "text": [
      "[[ 1  2  3  4]\n",
      " [ 5  6  7  8]\n",
      " [ 9 10 11 12]]\n"
     ]
    }
   ],
   "source": [
    "print (array_2)"
   ]
  },
  {
   "cell_type": "markdown",
   "id": "f3740926",
   "metadata": {},
   "source": [
    "# numpy arange function"
   ]
  },
  {
   "cell_type": "code",
   "execution_count": 10,
   "id": "a31a73f8",
   "metadata": {},
   "outputs": [],
   "source": [
    "#تطبع ارقام بتسلسل معين"
   ]
  },
  {
   "cell_type": "code",
   "execution_count": 11,
   "id": "b51cbb3c",
   "metadata": {},
   "outputs": [],
   "source": [
    "arange_1 = np.arange(1,15)"
   ]
  },
  {
   "cell_type": "code",
   "execution_count": 12,
   "id": "b508cf6d",
   "metadata": {},
   "outputs": [
    {
     "name": "stdout",
     "output_type": "stream",
     "text": [
      "[ 1  2  3  4  5  6  7  8  9 10 11 12 13 14]\n"
     ]
    }
   ],
   "source": [
    "print (arange_1)"
   ]
  },
  {
   "cell_type": "code",
   "execution_count": 13,
   "id": "f2c2cd90",
   "metadata": {},
   "outputs": [],
   "source": [
    "arange_2 = np.arange(1,15,3)"
   ]
  },
  {
   "cell_type": "code",
   "execution_count": 14,
   "id": "7b8978f7",
   "metadata": {},
   "outputs": [
    {
     "name": "stdout",
     "output_type": "stream",
     "text": [
      "[ 1  4  7 10 13]\n"
     ]
    }
   ],
   "source": [
    "print (arange_2)"
   ]
  },
  {
   "cell_type": "markdown",
   "id": "2452b43e",
   "metadata": {},
   "source": [
    "# numpy zeros function"
   ]
  },
  {
   "cell_type": "code",
   "execution_count": 15,
   "id": "8ada5456",
   "metadata": {},
   "outputs": [],
   "source": [
    "zeros_1 = np.zeros(9)"
   ]
  },
  {
   "cell_type": "code",
   "execution_count": 16,
   "id": "7d4d89e9",
   "metadata": {},
   "outputs": [
    {
     "name": "stdout",
     "output_type": "stream",
     "text": [
      "[0. 0. 0. 0. 0. 0. 0. 0. 0.]\n"
     ]
    }
   ],
   "source": [
    "print (zeros_1)"
   ]
  },
  {
   "cell_type": "code",
   "execution_count": 17,
   "id": "4e090fa3",
   "metadata": {},
   "outputs": [],
   "source": [
    "zeros_2 = np.zeros((3,3))"
   ]
  },
  {
   "cell_type": "code",
   "execution_count": 18,
   "id": "30cdd757",
   "metadata": {},
   "outputs": [
    {
     "name": "stdout",
     "output_type": "stream",
     "text": [
      "[[0. 0. 0.]\n",
      " [0. 0. 0.]\n",
      " [0. 0. 0.]]\n"
     ]
    }
   ],
   "source": [
    "print (zeros_2)"
   ]
  },
  {
   "cell_type": "markdown",
   "id": "5ef59e64",
   "metadata": {},
   "source": [
    "# numpy ones function"
   ]
  },
  {
   "cell_type": "code",
   "execution_count": 19,
   "id": "a3669dba",
   "metadata": {},
   "outputs": [],
   "source": [
    "ones_1 = np.ones (7)"
   ]
  },
  {
   "cell_type": "code",
   "execution_count": 20,
   "id": "4492101b",
   "metadata": {},
   "outputs": [
    {
     "name": "stdout",
     "output_type": "stream",
     "text": [
      "[1. 1. 1. 1. 1. 1. 1.]\n"
     ]
    }
   ],
   "source": [
    "print (ones_1)"
   ]
  },
  {
   "cell_type": "code",
   "execution_count": 21,
   "id": "9c3a554e",
   "metadata": {},
   "outputs": [],
   "source": [
    "ones_2 = np.ones ((4,3))"
   ]
  },
  {
   "cell_type": "code",
   "execution_count": 22,
   "id": "dadcf3ec",
   "metadata": {},
   "outputs": [
    {
     "name": "stdout",
     "output_type": "stream",
     "text": [
      "[[1. 1. 1.]\n",
      " [1. 1. 1.]\n",
      " [1. 1. 1.]\n",
      " [1. 1. 1.]]\n"
     ]
    }
   ],
   "source": [
    "print (ones_2)"
   ]
  },
  {
   "cell_type": "markdown",
   "id": "74adbac3",
   "metadata": {},
   "source": [
    "# rand method"
   ]
  },
  {
   "cell_type": "code",
   "execution_count": 23,
   "id": "bf96bf8b",
   "metadata": {},
   "outputs": [],
   "source": [
    "#  بتدينا قيم عشوائية بين0:1 "
   ]
  },
  {
   "cell_type": "code",
   "execution_count": 24,
   "id": "639a7eef",
   "metadata": {},
   "outputs": [],
   "source": [
    "rand_1 = np.random.rand(3)"
   ]
  },
  {
   "cell_type": "code",
   "execution_count": 25,
   "id": "ff2c13b6",
   "metadata": {},
   "outputs": [
    {
     "name": "stdout",
     "output_type": "stream",
     "text": [
      "[0.60934145 0.25295926 0.06667102]\n"
     ]
    }
   ],
   "source": [
    "print(rand_1)"
   ]
  },
  {
   "cell_type": "code",
   "execution_count": 26,
   "id": "63b2d899",
   "metadata": {},
   "outputs": [],
   "source": [
    "rand = np.random.rand(3)"
   ]
  },
  {
   "cell_type": "code",
   "execution_count": 27,
   "id": "d6d87ac9",
   "metadata": {},
   "outputs": [],
   "source": [
    "#  بتدينا قيم عشوائية بين0:1 في شكل مصفوفة"
   ]
  },
  {
   "cell_type": "code",
   "execution_count": 28,
   "id": "54c87fe2",
   "metadata": {},
   "outputs": [],
   "source": [
    "randint_1 = np.random.rand(4,2)"
   ]
  },
  {
   "cell_type": "code",
   "execution_count": 29,
   "id": "609bdcd5",
   "metadata": {},
   "outputs": [
    {
     "name": "stdout",
     "output_type": "stream",
     "text": [
      "[[0.50738939 0.79547215]\n",
      " [0.42150678 0.79864822]\n",
      " [0.83859348 0.75713618]\n",
      " [0.25049297 0.13051536]]\n"
     ]
    }
   ],
   "source": [
    "print (randint_1)"
   ]
  },
  {
   "cell_type": "code",
   "execution_count": 30,
   "id": "ab5ccb7d",
   "metadata": {},
   "outputs": [
    {
     "data": {
      "text/plain": [
       "dtype('float64')"
      ]
     },
     "execution_count": 30,
     "metadata": {},
     "output_type": "execute_result"
    }
   ],
   "source": [
    "randint_1.dtype"
   ]
  },
  {
   "cell_type": "markdown",
   "id": "ec4da514",
   "metadata": {},
   "source": [
    "# randint method"
   ]
  },
  {
   "cell_type": "code",
   "execution_count": 31,
   "id": "4b87ce21",
   "metadata": {},
   "outputs": [],
   "source": [
    "# بتدينا قيم عشوائية صحيحة"
   ]
  },
  {
   "cell_type": "code",
   "execution_count": 32,
   "id": "5d5c6009",
   "metadata": {},
   "outputs": [],
   "source": [
    "randint_1 = np.random.randint(50)"
   ]
  },
  {
   "cell_type": "code",
   "execution_count": 33,
   "id": "5a80e3e8",
   "metadata": {},
   "outputs": [
    {
     "name": "stdout",
     "output_type": "stream",
     "text": [
      "41\n"
     ]
    }
   ],
   "source": [
    "print (randint_1)"
   ]
  },
  {
   "cell_type": "code",
   "execution_count": 34,
   "id": "6f3b56ed",
   "metadata": {},
   "outputs": [],
   "source": [
    "randint_2 = np.random.randint(50,100)"
   ]
  },
  {
   "cell_type": "code",
   "execution_count": 35,
   "id": "0222363b",
   "metadata": {},
   "outputs": [
    {
     "name": "stdout",
     "output_type": "stream",
     "text": [
      "96\n"
     ]
    }
   ],
   "source": [
    "print (randint_2)"
   ]
  },
  {
   "cell_type": "code",
   "execution_count": 36,
   "id": "20f212a0",
   "metadata": {},
   "outputs": [],
   "source": [
    "randint_3 = np.random.randint(50,100,10)"
   ]
  },
  {
   "cell_type": "code",
   "execution_count": 37,
   "id": "b323f226",
   "metadata": {},
   "outputs": [
    {
     "name": "stdout",
     "output_type": "stream",
     "text": [
      "[68 81 60 76 52 84 68 55 61 88]\n"
     ]
    }
   ],
   "source": [
    "print (randint_3)"
   ]
  },
  {
   "cell_type": "code",
   "execution_count": 38,
   "id": "c533e43d",
   "metadata": {},
   "outputs": [],
   "source": [
    "randint_4 = np.random.randint(50,100,(4,3))"
   ]
  },
  {
   "cell_type": "code",
   "execution_count": 39,
   "id": "6f6e40ad",
   "metadata": {
    "scrolled": true
   },
   "outputs": [
    {
     "name": "stdout",
     "output_type": "stream",
     "text": [
      "[[50 61 63]\n",
      " [98 57 60]\n",
      " [77 92 94]\n",
      " [76 53 71]]\n"
     ]
    }
   ],
   "source": [
    "print (randint_4)"
   ]
  },
  {
   "cell_type": "markdown",
   "id": "809156fc",
   "metadata": {},
   "source": [
    "# reshape method"
   ]
  },
  {
   "cell_type": "code",
   "execution_count": 40,
   "id": "0e9dc395",
   "metadata": {},
   "outputs": [],
   "source": [
    "shape = randint_3.reshape(2,5)"
   ]
  },
  {
   "cell_type": "code",
   "execution_count": 41,
   "id": "d4fbfaaf",
   "metadata": {},
   "outputs": [
    {
     "name": "stdout",
     "output_type": "stream",
     "text": [
      "[[68 81 60 76 52]\n",
      " [84 68 55 61 88]]\n"
     ]
    }
   ],
   "source": [
    "print (shape)"
   ]
  },
  {
   "cell_type": "markdown",
   "id": "fcddb966",
   "metadata": {},
   "source": [
    "# shuffle method"
   ]
  },
  {
   "cell_type": "code",
   "execution_count": 42,
   "id": "6c3f2cd1",
   "metadata": {},
   "outputs": [],
   "source": [
    "np.random.shuffle(arange_1)"
   ]
  },
  {
   "cell_type": "code",
   "execution_count": 43,
   "id": "07d5d436",
   "metadata": {},
   "outputs": [
    {
     "data": {
      "text/plain": [
       "array([ 6,  7, 12, 11,  2,  9,  5, 14, 10,  1,  8, 13,  4,  3])"
      ]
     },
     "execution_count": 43,
     "metadata": {},
     "output_type": "execute_result"
    }
   ],
   "source": [
    "arange_1"
   ]
  },
  {
   "cell_type": "code",
   "execution_count": 44,
   "id": "2796a576",
   "metadata": {},
   "outputs": [],
   "source": [
    "np.random.shuffle(shape)"
   ]
  },
  {
   "cell_type": "code",
   "execution_count": 45,
   "id": "0ff44496",
   "metadata": {},
   "outputs": [
    {
     "name": "stdout",
     "output_type": "stream",
     "text": [
      "[[84 68 55 61 88]\n",
      " [68 81 60 76 52]]\n"
     ]
    }
   ],
   "source": [
    "print (shape)"
   ]
  },
  {
   "cell_type": "markdown",
   "id": "1416286f",
   "metadata": {},
   "source": [
    "# maximum & minimum method"
   ]
  },
  {
   "cell_type": "code",
   "execution_count": 46,
   "id": "0c6ffd15",
   "metadata": {},
   "outputs": [],
   "source": [
    "maximum = randint_4.max()"
   ]
  },
  {
   "cell_type": "code",
   "execution_count": 47,
   "id": "032859ec",
   "metadata": {},
   "outputs": [
    {
     "name": "stdout",
     "output_type": "stream",
     "text": [
      "maximum : 98\n"
     ]
    }
   ],
   "source": [
    "print (\"maximum : \" + str (maximum))"
   ]
  },
  {
   "cell_type": "code",
   "execution_count": 48,
   "id": "66b35937",
   "metadata": {},
   "outputs": [],
   "source": [
    "minimum = randint_4.min()"
   ]
  },
  {
   "cell_type": "code",
   "execution_count": 49,
   "id": "6a17c4b2",
   "metadata": {},
   "outputs": [
    {
     "name": "stdout",
     "output_type": "stream",
     "text": [
      "minimum : 50\n"
     ]
    }
   ],
   "source": [
    "print (\"minimum : \" + str (minimum))"
   ]
  },
  {
   "cell_type": "markdown",
   "id": "265107a4",
   "metadata": {},
   "source": [
    "# argmax & argmin method"
   ]
  },
  {
   "cell_type": "code",
   "execution_count": 50,
   "id": "76dae392",
   "metadata": {},
   "outputs": [],
   "source": [
    "max_index = randint_4.argmax()"
   ]
  },
  {
   "cell_type": "code",
   "execution_count": 51,
   "id": "39369d56",
   "metadata": {},
   "outputs": [
    {
     "name": "stdout",
     "output_type": "stream",
     "text": [
      "3\n"
     ]
    }
   ],
   "source": [
    "print (max_index)"
   ]
  },
  {
   "cell_type": "code",
   "execution_count": 52,
   "id": "26dbb4a5",
   "metadata": {},
   "outputs": [],
   "source": [
    "min_index = randint_4.argmin()"
   ]
  },
  {
   "cell_type": "code",
   "execution_count": 53,
   "id": "35c41c35",
   "metadata": {},
   "outputs": [
    {
     "name": "stdout",
     "output_type": "stream",
     "text": [
      "0\n"
     ]
    }
   ],
   "source": [
    "print (min_index)"
   ]
  },
  {
   "cell_type": "markdown",
   "id": "abf8a23d",
   "metadata": {},
   "source": [
    "# shape method"
   ]
  },
  {
   "cell_type": "code",
   "execution_count": 54,
   "id": "7b4cf13b",
   "metadata": {},
   "outputs": [],
   "source": [
    "shape = randint_4.shape"
   ]
  },
  {
   "cell_type": "code",
   "execution_count": 55,
   "id": "fbd1c580",
   "metadata": {},
   "outputs": [
    {
     "name": "stdout",
     "output_type": "stream",
     "text": [
      "(4, 3)\n"
     ]
    }
   ],
   "source": [
    "print (shape)"
   ]
  },
  {
   "cell_type": "code",
   "execution_count": 56,
   "id": "a0e8aa90",
   "metadata": {},
   "outputs": [
    {
     "name": "stdout",
     "output_type": "stream",
     "text": [
      "4\n"
     ]
    }
   ],
   "source": [
    "print (shape[0])"
   ]
  },
  {
   "cell_type": "code",
   "execution_count": 57,
   "id": "cd3dc265",
   "metadata": {},
   "outputs": [
    {
     "name": "stdout",
     "output_type": "stream",
     "text": [
      "3\n"
     ]
    }
   ],
   "source": [
    "print (shape[1])"
   ]
  },
  {
   "cell_type": "markdown",
   "id": "6198dd30",
   "metadata": {},
   "source": [
    "# numpy ceil function"
   ]
  },
  {
   "cell_type": "code",
   "execution_count": 58,
   "id": "05cc5d6f",
   "metadata": {},
   "outputs": [],
   "source": [
    "#تقوم بتقريب الرقم العشري لاقرب رقم صحيح اكبر منه"
   ]
  },
  {
   "cell_type": "code",
   "execution_count": 59,
   "id": "cdec953a",
   "metadata": {},
   "outputs": [],
   "source": [
    "ceil = np.ceil(3.7)"
   ]
  },
  {
   "cell_type": "code",
   "execution_count": 60,
   "id": "778978e8",
   "metadata": {},
   "outputs": [
    {
     "name": "stdout",
     "output_type": "stream",
     "text": [
      "4.0\n"
     ]
    }
   ],
   "source": [
    "print (ceil)"
   ]
  },
  {
   "cell_type": "markdown",
   "id": "72bd1a80",
   "metadata": {},
   "source": [
    "# numpy floor function"
   ]
  },
  {
   "cell_type": "code",
   "execution_count": 61,
   "id": "76b654f1",
   "metadata": {},
   "outputs": [],
   "source": [
    "floor = np.floor(2.99999)"
   ]
  },
  {
   "cell_type": "code",
   "execution_count": 62,
   "id": "63a8579b",
   "metadata": {},
   "outputs": [
    {
     "name": "stdout",
     "output_type": "stream",
     "text": [
      "2.0\n"
     ]
    }
   ],
   "source": [
    "print (floor)"
   ]
  },
  {
   "cell_type": "markdown",
   "id": "41c35f69",
   "metadata": {},
   "source": [
    "# numpy round function"
   ]
  },
  {
   "cell_type": "code",
   "execution_count": 63,
   "id": "3b89c13f",
   "metadata": {},
   "outputs": [],
   "source": [
    "r_1 = np.round (4.2)"
   ]
  },
  {
   "cell_type": "code",
   "execution_count": 64,
   "id": "49807acb",
   "metadata": {},
   "outputs": [
    {
     "name": "stdout",
     "output_type": "stream",
     "text": [
      "4.0\n"
     ]
    }
   ],
   "source": [
    "print (r_1)"
   ]
  },
  {
   "cell_type": "code",
   "execution_count": 65,
   "id": "80cb121c",
   "metadata": {},
   "outputs": [],
   "source": [
    "r_2 = np.round (4.7)"
   ]
  },
  {
   "cell_type": "code",
   "execution_count": 66,
   "id": "8a45126e",
   "metadata": {},
   "outputs": [
    {
     "name": "stdout",
     "output_type": "stream",
     "text": [
      "5.0\n"
     ]
    }
   ],
   "source": [
    "print (r_2)"
   ]
  },
  {
   "cell_type": "markdown",
   "id": "17f25173",
   "metadata": {},
   "source": [
    "# numpy add function"
   ]
  },
  {
   "cell_type": "code",
   "execution_count": 67,
   "id": "c950f400",
   "metadata": {},
   "outputs": [],
   "source": [
    "add_1 = np.add (3,5)"
   ]
  },
  {
   "cell_type": "code",
   "execution_count": 68,
   "id": "1d1e9335",
   "metadata": {},
   "outputs": [
    {
     "name": "stdout",
     "output_type": "stream",
     "text": [
      "8\n"
     ]
    }
   ],
   "source": [
    "print (add_1)"
   ]
  },
  {
   "cell_type": "code",
   "execution_count": 69,
   "id": "12522bd0",
   "metadata": {},
   "outputs": [],
   "source": [
    "add_2 = np.add (randint_4,2)"
   ]
  },
  {
   "cell_type": "code",
   "execution_count": 70,
   "id": "b533195f",
   "metadata": {},
   "outputs": [
    {
     "name": "stdout",
     "output_type": "stream",
     "text": [
      "[[ 52  63  65]\n",
      " [100  59  62]\n",
      " [ 79  94  96]\n",
      " [ 78  55  73]]\n"
     ]
    }
   ],
   "source": [
    "print (add_2)"
   ]
  },
  {
   "cell_type": "code",
   "execution_count": 71,
   "id": "6952f3df",
   "metadata": {},
   "outputs": [],
   "source": [
    "add_3 = np.add (randint_4,add_2)"
   ]
  },
  {
   "cell_type": "code",
   "execution_count": 72,
   "id": "d75398d8",
   "metadata": {},
   "outputs": [
    {
     "name": "stdout",
     "output_type": "stream",
     "text": [
      "[[102 124 128]\n",
      " [198 116 122]\n",
      " [156 186 190]\n",
      " [154 108 144]]\n"
     ]
    }
   ],
   "source": [
    "print (add_3)"
   ]
  },
  {
   "cell_type": "markdown",
   "id": "f33d2ffb",
   "metadata": {},
   "source": [
    "# numpy multiply function"
   ]
  },
  {
   "cell_type": "code",
   "execution_count": 73,
   "id": "85aea381",
   "metadata": {},
   "outputs": [],
   "source": [
    "mul_1 = np.multiply (3,2)"
   ]
  },
  {
   "cell_type": "code",
   "execution_count": 74,
   "id": "e5783324",
   "metadata": {},
   "outputs": [
    {
     "name": "stdout",
     "output_type": "stream",
     "text": [
      "6\n"
     ]
    }
   ],
   "source": [
    "print (mul_1)"
   ]
  },
  {
   "cell_type": "code",
   "execution_count": 75,
   "id": "632d7305",
   "metadata": {},
   "outputs": [],
   "source": [
    "mul_2 = np.multiply (randint_4,2)"
   ]
  },
  {
   "cell_type": "code",
   "execution_count": 76,
   "id": "568cc6af",
   "metadata": {},
   "outputs": [
    {
     "name": "stdout",
     "output_type": "stream",
     "text": [
      "[[100 122 126]\n",
      " [196 114 120]\n",
      " [154 184 188]\n",
      " [152 106 142]]\n"
     ]
    }
   ],
   "source": [
    "print (mul_2)"
   ]
  },
  {
   "cell_type": "markdown",
   "id": "fbe12538",
   "metadata": {},
   "source": [
    "# numpy divide function"
   ]
  },
  {
   "cell_type": "code",
   "execution_count": 77,
   "id": "952199bb",
   "metadata": {},
   "outputs": [],
   "source": [
    "div_1 = np.divide (10,2)"
   ]
  },
  {
   "cell_type": "code",
   "execution_count": 78,
   "id": "8e1b3de8",
   "metadata": {},
   "outputs": [
    {
     "name": "stdout",
     "output_type": "stream",
     "text": [
      "5.0\n"
     ]
    }
   ],
   "source": [
    "print (div_1)"
   ]
  },
  {
   "cell_type": "code",
   "execution_count": 79,
   "id": "b70a1a65",
   "metadata": {},
   "outputs": [],
   "source": [
    "div_2 = np.divide (randint_4,2)"
   ]
  },
  {
   "cell_type": "code",
   "execution_count": 80,
   "id": "3e17e7eb",
   "metadata": {},
   "outputs": [
    {
     "name": "stdout",
     "output_type": "stream",
     "text": [
      "[[25.  30.5 31.5]\n",
      " [49.  28.5 30. ]\n",
      " [38.5 46.  47. ]\n",
      " [38.  26.5 35.5]]\n"
     ]
    }
   ],
   "source": [
    "print(div_2)"
   ]
  },
  {
   "cell_type": "code",
   "execution_count": 81,
   "id": "022fa78c",
   "metadata": {},
   "outputs": [],
   "source": [
    "div_3 = np.divide (randint_4,div_2)"
   ]
  },
  {
   "cell_type": "code",
   "execution_count": 82,
   "id": "ea97c8ea",
   "metadata": {},
   "outputs": [
    {
     "name": "stdout",
     "output_type": "stream",
     "text": [
      "[[2. 2. 2.]\n",
      " [2. 2. 2.]\n",
      " [2. 2. 2.]\n",
      " [2. 2. 2.]]\n"
     ]
    }
   ],
   "source": [
    "print (div_3)"
   ]
  },
  {
   "cell_type": "markdown",
   "id": "bca33015",
   "metadata": {},
   "source": [
    "# sum method"
   ]
  },
  {
   "cell_type": "code",
   "execution_count": 83,
   "id": "a3c72999",
   "metadata": {},
   "outputs": [],
   "source": [
    "sum_ = div_2.sum()"
   ]
  },
  {
   "cell_type": "code",
   "execution_count": 84,
   "id": "d018fc0e",
   "metadata": {},
   "outputs": [
    {
     "data": {
      "text/plain": [
       "426.0"
      ]
     },
     "execution_count": 84,
     "metadata": {},
     "output_type": "execute_result"
    }
   ],
   "source": [
    "sum_"
   ]
  }
 ],
 "metadata": {
  "kernelspec": {
   "display_name": "Python 3 (ipykernel)",
   "language": "python",
   "name": "python3"
  },
  "language_info": {
   "codemirror_mode": {
    "name": "ipython",
    "version": 3
   },
   "file_extension": ".py",
   "mimetype": "text/x-python",
   "name": "python",
   "nbconvert_exporter": "python",
   "pygments_lexer": "ipython3",
   "version": "3.9.7"
  }
 },
 "nbformat": 4,
 "nbformat_minor": 5
}
