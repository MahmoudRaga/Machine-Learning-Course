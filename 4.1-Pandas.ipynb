{
 "cells": [
  {
   "cell_type": "code",
   "execution_count": 1,
   "id": "2280cfde",
   "metadata": {},
   "outputs": [],
   "source": [
    "import pandas as pd"
   ]
  },
  {
   "cell_type": "code",
   "execution_count": 2,
   "id": "07b615b5",
   "metadata": {},
   "outputs": [],
   "source": [
    "ls_1 = [\"Mahmoud\",\"Ahmed\",\"Ali\",\"Hassan\",\"Tarek\",\"Ibrahim\",\"Khalid\"]"
   ]
  },
  {
   "cell_type": "code",
   "execution_count": 3,
   "id": "6bc1f135",
   "metadata": {},
   "outputs": [],
   "source": [
    "ls_2 = [5,10,15,20,25,30,35,40,45]"
   ]
  },
  {
   "cell_type": "markdown",
   "id": "f36b0ac3",
   "metadata": {},
   "source": [
    "# Series Function"
   ]
  },
  {
   "cell_type": "code",
   "execution_count": 4,
   "id": "61234f46",
   "metadata": {},
   "outputs": [],
   "source": [
    "ser_1 = pd.Series(ls_1)"
   ]
  },
  {
   "cell_type": "code",
   "execution_count": 5,
   "id": "12ee15eb",
   "metadata": {},
   "outputs": [
    {
     "name": "stdout",
     "output_type": "stream",
     "text": [
      "['Mahmoud', 'Ahmed', 'Ali', 'Hassan', 'Tarek', 'Ibrahim', 'Khalid']\n"
     ]
    }
   ],
   "source": [
    "print (ls_1)"
   ]
  },
  {
   "cell_type": "code",
   "execution_count": 6,
   "id": "3fba3248",
   "metadata": {},
   "outputs": [
    {
     "name": "stdout",
     "output_type": "stream",
     "text": [
      "0    Mahmoud\n",
      "1      Ahmed\n",
      "2        Ali\n",
      "3     Hassan\n",
      "4      Tarek\n",
      "5    Ibrahim\n",
      "6     Khalid\n",
      "dtype: object\n"
     ]
    }
   ],
   "source": [
    "print (ser_1)"
   ]
  },
  {
   "cell_type": "code",
   "execution_count": 7,
   "id": "e724651c",
   "metadata": {},
   "outputs": [],
   "source": [
    "ser_2 = pd.Series(ls_2)"
   ]
  },
  {
   "cell_type": "code",
   "execution_count": 8,
   "id": "237efcd6",
   "metadata": {},
   "outputs": [
    {
     "name": "stdout",
     "output_type": "stream",
     "text": [
      "[5, 10, 15, 20, 25, 30, 35, 40, 45]\n"
     ]
    }
   ],
   "source": [
    "print (ls_2)"
   ]
  },
  {
   "cell_type": "code",
   "execution_count": 9,
   "id": "cfd08ae7",
   "metadata": {},
   "outputs": [
    {
     "name": "stdout",
     "output_type": "stream",
     "text": [
      "0     5\n",
      "1    10\n",
      "2    15\n",
      "3    20\n",
      "4    25\n",
      "5    30\n",
      "6    35\n",
      "7    40\n",
      "8    45\n",
      "dtype: int64\n"
     ]
    }
   ],
   "source": [
    "print (ser_2)"
   ]
  },
  {
   "cell_type": "code",
   "execution_count": 10,
   "id": "5bd71c07",
   "metadata": {},
   "outputs": [],
   "source": [
    "ls_5 = [\"Ali\",\"Ali\",\"Ali\",\"Ali\",\"Tarek\",\"Mahmoud\",\"Khalid\"]"
   ]
  },
  {
   "cell_type": "code",
   "execution_count": 11,
   "id": "07bf3726",
   "metadata": {},
   "outputs": [],
   "source": [
    "ser_5 = pd.Series(ls_1)"
   ]
  },
  {
   "cell_type": "code",
   "execution_count": 12,
   "id": "ebe5bf70",
   "metadata": {},
   "outputs": [
    {
     "data": {
      "text/plain": [
       "count           7\n",
       "unique          7\n",
       "top       Mahmoud\n",
       "freq            1\n",
       "dtype: object"
      ]
     },
     "execution_count": 12,
     "metadata": {},
     "output_type": "execute_result"
    }
   ],
   "source": [
    "ser_5.describe()"
   ]
  },
  {
   "cell_type": "code",
   "execution_count": 13,
   "id": "cc42b9b3",
   "metadata": {},
   "outputs": [],
   "source": [
    "ser_3 = pd.Series(ls_1,index = [\"a\",\"b\",\"c\",\"d\",\"e\",\"f\",\"g\"])"
   ]
  },
  {
   "cell_type": "code",
   "execution_count": 14,
   "id": "3db1bc74",
   "metadata": {},
   "outputs": [
    {
     "name": "stdout",
     "output_type": "stream",
     "text": [
      "a    Mahmoud\n",
      "b      Ahmed\n",
      "c        Ali\n",
      "d     Hassan\n",
      "e      Tarek\n",
      "f    Ibrahim\n",
      "g     Khalid\n",
      "dtype: object\n"
     ]
    }
   ],
   "source": [
    "print (ser_3)"
   ]
  },
  {
   "cell_type": "code",
   "execution_count": 15,
   "id": "1e0fc2f1",
   "metadata": {},
   "outputs": [
    {
     "name": "stdout",
     "output_type": "stream",
     "text": [
      "['Mahmoud' 'Ahmed' 'Ali' 'Hassan' 'Tarek' 'Ibrahim' 'Khalid']\n"
     ]
    }
   ],
   "source": [
    "print (ser_3.values)"
   ]
  },
  {
   "cell_type": "code",
   "execution_count": 16,
   "id": "4c2dd450",
   "metadata": {},
   "outputs": [
    {
     "name": "stdout",
     "output_type": "stream",
     "text": [
      "Index(['a', 'b', 'c', 'd', 'e', 'f', 'g'], dtype='object')\n"
     ]
    }
   ],
   "source": [
    "print (ser_3.index)"
   ]
  },
  {
   "cell_type": "markdown",
   "id": "7050c3fb",
   "metadata": {},
   "source": [
    "# Describe Function"
   ]
  },
  {
   "cell_type": "code",
   "execution_count": 2,
   "id": "4ebf41b4",
   "metadata": {},
   "outputs": [],
   "source": [
    "#25%Quarter 1\n",
    "#50%Quarter 2\n",
    "#75%Quarter 3"
   ]
  },
  {
   "cell_type": "code",
   "execution_count": 17,
   "id": "31ecb873",
   "metadata": {},
   "outputs": [
    {
     "name": "stdout",
     "output_type": "stream",
     "text": [
      "count     9.000000\n",
      "mean     25.000000\n",
      "std      13.693064\n",
      "min       5.000000\n",
      "25%      15.000000\n",
      "50%      25.000000\n",
      "75%      35.000000\n",
      "max      45.000000\n",
      "dtype: float64\n"
     ]
    }
   ],
   "source": [
    "print (ser_2.describe())"
   ]
  },
  {
   "cell_type": "code",
   "execution_count": 18,
   "id": "1171be99",
   "metadata": {},
   "outputs": [
    {
     "name": "stdout",
     "output_type": "stream",
     "text": [
      "count           7\n",
      "unique          7\n",
      "top       Mahmoud\n",
      "freq            1\n",
      "dtype: object\n"
     ]
    }
   ],
   "source": [
    "print (ser_3.describe())"
   ]
  },
  {
   "cell_type": "code",
   "execution_count": 19,
   "id": "5cc3647b",
   "metadata": {},
   "outputs": [
    {
     "data": {
      "text/plain": [
       "7"
      ]
     },
     "execution_count": 19,
     "metadata": {},
     "output_type": "execute_result"
    }
   ],
   "source": [
    "ser_3.nunique()"
   ]
  },
  {
   "cell_type": "code",
   "execution_count": 20,
   "id": "fad522af",
   "metadata": {},
   "outputs": [
    {
     "name": "stdout",
     "output_type": "stream",
     "text": [
      "25.0\n"
     ]
    }
   ],
   "source": [
    "print (ser_2.mean())"
   ]
  },
  {
   "cell_type": "code",
   "execution_count": 21,
   "id": "a2366341",
   "metadata": {},
   "outputs": [
    {
     "name": "stdout",
     "output_type": "stream",
     "text": [
      "13.693063937629153\n"
     ]
    }
   ],
   "source": [
    "print (ser_2.std())"
   ]
  },
  {
   "cell_type": "code",
   "execution_count": 22,
   "id": "185604c6",
   "metadata": {},
   "outputs": [
    {
     "name": "stdout",
     "output_type": "stream",
     "text": [
      "mean     25.000000\n",
      "std      13.693064\n",
      "sum     225.000000\n",
      "dtype: float64\n"
     ]
    }
   ],
   "source": [
    "#aggregation\n",
    "print (ser_2.agg(['mean','std','sum']))"
   ]
  },
  {
   "cell_type": "code",
   "execution_count": 23,
   "id": "f77a6079",
   "metadata": {},
   "outputs": [
    {
     "name": "stdout",
     "output_type": "stream",
     "text": [
      "9\n"
     ]
    }
   ],
   "source": [
    "print (ser_2.count())"
   ]
  },
  {
   "cell_type": "markdown",
   "id": "f99fec31",
   "metadata": {},
   "source": [
    "# DataFrame Function"
   ]
  },
  {
   "cell_type": "code",
   "execution_count": 24,
   "id": "c62b304d",
   "metadata": {},
   "outputs": [],
   "source": [
    "frame_1 = pd.DataFrame(ser_2)"
   ]
  },
  {
   "cell_type": "code",
   "execution_count": 25,
   "id": "1f6befed",
   "metadata": {},
   "outputs": [
    {
     "name": "stdout",
     "output_type": "stream",
     "text": [
      "    0\n",
      "0   5\n",
      "1  10\n",
      "2  15\n",
      "3  20\n",
      "4  25\n",
      "5  30\n",
      "6  35\n",
      "7  40\n",
      "8  45\n"
     ]
    }
   ],
   "source": [
    "print (frame_1)"
   ]
  },
  {
   "cell_type": "code",
   "execution_count": 26,
   "id": "b7053f8e",
   "metadata": {},
   "outputs": [],
   "source": [
    "frame_2 = pd.DataFrame(ls_2,index = [\"a\",\"b\",\"c\",\"d\",\"e\",\"f\",\"g\",\"h\",\"i\"])"
   ]
  },
  {
   "cell_type": "code",
   "execution_count": 27,
   "id": "885e7431",
   "metadata": {},
   "outputs": [
    {
     "data": {
      "text/html": [
       "<div>\n",
       "<style scoped>\n",
       "    .dataframe tbody tr th:only-of-type {\n",
       "        vertical-align: middle;\n",
       "    }\n",
       "\n",
       "    .dataframe tbody tr th {\n",
       "        vertical-align: top;\n",
       "    }\n",
       "\n",
       "    .dataframe thead th {\n",
       "        text-align: right;\n",
       "    }\n",
       "</style>\n",
       "<table border=\"1\" class=\"dataframe\">\n",
       "  <thead>\n",
       "    <tr style=\"text-align: right;\">\n",
       "      <th></th>\n",
       "      <th>0</th>\n",
       "    </tr>\n",
       "  </thead>\n",
       "  <tbody>\n",
       "    <tr>\n",
       "      <th>a</th>\n",
       "      <td>5</td>\n",
       "    </tr>\n",
       "    <tr>\n",
       "      <th>b</th>\n",
       "      <td>10</td>\n",
       "    </tr>\n",
       "    <tr>\n",
       "      <th>c</th>\n",
       "      <td>15</td>\n",
       "    </tr>\n",
       "    <tr>\n",
       "      <th>d</th>\n",
       "      <td>20</td>\n",
       "    </tr>\n",
       "    <tr>\n",
       "      <th>e</th>\n",
       "      <td>25</td>\n",
       "    </tr>\n",
       "    <tr>\n",
       "      <th>f</th>\n",
       "      <td>30</td>\n",
       "    </tr>\n",
       "    <tr>\n",
       "      <th>g</th>\n",
       "      <td>35</td>\n",
       "    </tr>\n",
       "    <tr>\n",
       "      <th>h</th>\n",
       "      <td>40</td>\n",
       "    </tr>\n",
       "    <tr>\n",
       "      <th>i</th>\n",
       "      <td>45</td>\n",
       "    </tr>\n",
       "  </tbody>\n",
       "</table>\n",
       "</div>"
      ],
      "text/plain": [
       "    0\n",
       "a   5\n",
       "b  10\n",
       "c  15\n",
       "d  20\n",
       "e  25\n",
       "f  30\n",
       "g  35\n",
       "h  40\n",
       "i  45"
      ]
     },
     "execution_count": 27,
     "metadata": {},
     "output_type": "execute_result"
    }
   ],
   "source": [
    "frame_2"
   ]
  },
  {
   "cell_type": "code",
   "execution_count": 28,
   "id": "4d480390",
   "metadata": {},
   "outputs": [],
   "source": [
    "frame_2 = pd.DataFrame(ls_2,columns = [\"first\"])"
   ]
  },
  {
   "cell_type": "code",
   "execution_count": 29,
   "id": "1d4cbbe6",
   "metadata": {},
   "outputs": [
    {
     "data": {
      "text/html": [
       "<div>\n",
       "<style scoped>\n",
       "    .dataframe tbody tr th:only-of-type {\n",
       "        vertical-align: middle;\n",
       "    }\n",
       "\n",
       "    .dataframe tbody tr th {\n",
       "        vertical-align: top;\n",
       "    }\n",
       "\n",
       "    .dataframe thead th {\n",
       "        text-align: right;\n",
       "    }\n",
       "</style>\n",
       "<table border=\"1\" class=\"dataframe\">\n",
       "  <thead>\n",
       "    <tr style=\"text-align: right;\">\n",
       "      <th></th>\n",
       "      <th>first</th>\n",
       "    </tr>\n",
       "  </thead>\n",
       "  <tbody>\n",
       "    <tr>\n",
       "      <th>0</th>\n",
       "      <td>5</td>\n",
       "    </tr>\n",
       "    <tr>\n",
       "      <th>1</th>\n",
       "      <td>10</td>\n",
       "    </tr>\n",
       "    <tr>\n",
       "      <th>2</th>\n",
       "      <td>15</td>\n",
       "    </tr>\n",
       "    <tr>\n",
       "      <th>3</th>\n",
       "      <td>20</td>\n",
       "    </tr>\n",
       "    <tr>\n",
       "      <th>4</th>\n",
       "      <td>25</td>\n",
       "    </tr>\n",
       "    <tr>\n",
       "      <th>5</th>\n",
       "      <td>30</td>\n",
       "    </tr>\n",
       "    <tr>\n",
       "      <th>6</th>\n",
       "      <td>35</td>\n",
       "    </tr>\n",
       "    <tr>\n",
       "      <th>7</th>\n",
       "      <td>40</td>\n",
       "    </tr>\n",
       "    <tr>\n",
       "      <th>8</th>\n",
       "      <td>45</td>\n",
       "    </tr>\n",
       "  </tbody>\n",
       "</table>\n",
       "</div>"
      ],
      "text/plain": [
       "   first\n",
       "0      5\n",
       "1     10\n",
       "2     15\n",
       "3     20\n",
       "4     25\n",
       "5     30\n",
       "6     35\n",
       "7     40\n",
       "8     45"
      ]
     },
     "execution_count": 29,
     "metadata": {},
     "output_type": "execute_result"
    }
   ],
   "source": [
    "frame_2"
   ]
  },
  {
   "cell_type": "code",
   "execution_count": 30,
   "id": "ef276823",
   "metadata": {},
   "outputs": [],
   "source": [
    "frame_2 = pd.DataFrame(ls_2,index = [\"a\",\"b\",\"c\",\"d\",\"e\",\"f\",\"g\",\"h\",\"i\"],columns = [\"first\"])"
   ]
  },
  {
   "cell_type": "code",
   "execution_count": 31,
   "id": "8580cf84",
   "metadata": {},
   "outputs": [
    {
     "data": {
      "text/html": [
       "<div>\n",
       "<style scoped>\n",
       "    .dataframe tbody tr th:only-of-type {\n",
       "        vertical-align: middle;\n",
       "    }\n",
       "\n",
       "    .dataframe tbody tr th {\n",
       "        vertical-align: top;\n",
       "    }\n",
       "\n",
       "    .dataframe thead th {\n",
       "        text-align: right;\n",
       "    }\n",
       "</style>\n",
       "<table border=\"1\" class=\"dataframe\">\n",
       "  <thead>\n",
       "    <tr style=\"text-align: right;\">\n",
       "      <th></th>\n",
       "      <th>first</th>\n",
       "    </tr>\n",
       "  </thead>\n",
       "  <tbody>\n",
       "    <tr>\n",
       "      <th>a</th>\n",
       "      <td>5</td>\n",
       "    </tr>\n",
       "    <tr>\n",
       "      <th>b</th>\n",
       "      <td>10</td>\n",
       "    </tr>\n",
       "    <tr>\n",
       "      <th>c</th>\n",
       "      <td>15</td>\n",
       "    </tr>\n",
       "    <tr>\n",
       "      <th>d</th>\n",
       "      <td>20</td>\n",
       "    </tr>\n",
       "    <tr>\n",
       "      <th>e</th>\n",
       "      <td>25</td>\n",
       "    </tr>\n",
       "    <tr>\n",
       "      <th>f</th>\n",
       "      <td>30</td>\n",
       "    </tr>\n",
       "    <tr>\n",
       "      <th>g</th>\n",
       "      <td>35</td>\n",
       "    </tr>\n",
       "    <tr>\n",
       "      <th>h</th>\n",
       "      <td>40</td>\n",
       "    </tr>\n",
       "    <tr>\n",
       "      <th>i</th>\n",
       "      <td>45</td>\n",
       "    </tr>\n",
       "  </tbody>\n",
       "</table>\n",
       "</div>"
      ],
      "text/plain": [
       "   first\n",
       "a      5\n",
       "b     10\n",
       "c     15\n",
       "d     20\n",
       "e     25\n",
       "f     30\n",
       "g     35\n",
       "h     40\n",
       "i     45"
      ]
     },
     "execution_count": 31,
     "metadata": {},
     "output_type": "execute_result"
    }
   ],
   "source": [
    "frame_2"
   ]
  },
  {
   "cell_type": "code",
   "execution_count": 32,
   "id": "54bb073c",
   "metadata": {},
   "outputs": [
    {
     "data": {
      "text/plain": [
       "array([[ 5],\n",
       "       [10],\n",
       "       [15],\n",
       "       [20],\n",
       "       [25],\n",
       "       [30],\n",
       "       [35],\n",
       "       [40],\n",
       "       [45]], dtype=int64)"
      ]
     },
     "execution_count": 32,
     "metadata": {},
     "output_type": "execute_result"
    }
   ],
   "source": [
    "frame_2.values"
   ]
  },
  {
   "cell_type": "code",
   "execution_count": 33,
   "id": "481a140a",
   "metadata": {},
   "outputs": [
    {
     "data": {
      "text/plain": [
       "Index(['a', 'b', 'c', 'd', 'e', 'f', 'g', 'h', 'i'], dtype='object')"
      ]
     },
     "execution_count": 33,
     "metadata": {},
     "output_type": "execute_result"
    }
   ],
   "source": [
    "frame_2.index"
   ]
  },
  {
   "cell_type": "code",
   "execution_count": 34,
   "id": "5ab59fb1",
   "metadata": {},
   "outputs": [
    {
     "data": {
      "text/plain": [
       "Index(['first'], dtype='object')"
      ]
     },
     "execution_count": 34,
     "metadata": {},
     "output_type": "execute_result"
    }
   ],
   "source": [
    "frame_2.columns"
   ]
  },
  {
   "cell_type": "code",
   "execution_count": 35,
   "id": "38dc4072",
   "metadata": {},
   "outputs": [
    {
     "data": {
      "text/html": [
       "<div>\n",
       "<style scoped>\n",
       "    .dataframe tbody tr th:only-of-type {\n",
       "        vertical-align: middle;\n",
       "    }\n",
       "\n",
       "    .dataframe tbody tr th {\n",
       "        vertical-align: top;\n",
       "    }\n",
       "\n",
       "    .dataframe thead th {\n",
       "        text-align: right;\n",
       "    }\n",
       "</style>\n",
       "<table border=\"1\" class=\"dataframe\">\n",
       "  <thead>\n",
       "    <tr style=\"text-align: right;\">\n",
       "      <th></th>\n",
       "      <th>first</th>\n",
       "    </tr>\n",
       "  </thead>\n",
       "  <tbody>\n",
       "    <tr>\n",
       "      <th>count</th>\n",
       "      <td>9.000000</td>\n",
       "    </tr>\n",
       "    <tr>\n",
       "      <th>mean</th>\n",
       "      <td>25.000000</td>\n",
       "    </tr>\n",
       "    <tr>\n",
       "      <th>std</th>\n",
       "      <td>13.693064</td>\n",
       "    </tr>\n",
       "    <tr>\n",
       "      <th>min</th>\n",
       "      <td>5.000000</td>\n",
       "    </tr>\n",
       "    <tr>\n",
       "      <th>25%</th>\n",
       "      <td>15.000000</td>\n",
       "    </tr>\n",
       "    <tr>\n",
       "      <th>50%</th>\n",
       "      <td>25.000000</td>\n",
       "    </tr>\n",
       "    <tr>\n",
       "      <th>75%</th>\n",
       "      <td>35.000000</td>\n",
       "    </tr>\n",
       "    <tr>\n",
       "      <th>max</th>\n",
       "      <td>45.000000</td>\n",
       "    </tr>\n",
       "  </tbody>\n",
       "</table>\n",
       "</div>"
      ],
      "text/plain": [
       "           first\n",
       "count   9.000000\n",
       "mean   25.000000\n",
       "std    13.693064\n",
       "min     5.000000\n",
       "25%    15.000000\n",
       "50%    25.000000\n",
       "75%    35.000000\n",
       "max    45.000000"
      ]
     },
     "execution_count": 35,
     "metadata": {},
     "output_type": "execute_result"
    }
   ],
   "source": [
    "frame_2.describe()"
   ]
  },
  {
   "cell_type": "code",
   "execution_count": 36,
   "id": "33ff48e2",
   "metadata": {},
   "outputs": [
    {
     "data": {
      "text/plain": [
       "first    25.0\n",
       "dtype: float64"
      ]
     },
     "execution_count": 36,
     "metadata": {},
     "output_type": "execute_result"
    }
   ],
   "source": [
    "frame_2.mean()"
   ]
  },
  {
   "cell_type": "code",
   "execution_count": 37,
   "id": "1711a6c5",
   "metadata": {},
   "outputs": [],
   "source": [
    "lest1 = [10,20,30]\n",
    "lest2 = [100,200,300]\n",
    "lest3 = [1000,2000,3000]"
   ]
  },
  {
   "cell_type": "code",
   "execution_count": 38,
   "id": "2c2f01e7",
   "metadata": {},
   "outputs": [],
   "source": [
    "df_1 = pd.DataFrame([lest1,lest2,lest3],columns = [\"first\",\"second\",\"third\"])"
   ]
  },
  {
   "cell_type": "code",
   "execution_count": 39,
   "id": "2419aed6",
   "metadata": {},
   "outputs": [
    {
     "data": {
      "text/html": [
       "<div>\n",
       "<style scoped>\n",
       "    .dataframe tbody tr th:only-of-type {\n",
       "        vertical-align: middle;\n",
       "    }\n",
       "\n",
       "    .dataframe tbody tr th {\n",
       "        vertical-align: top;\n",
       "    }\n",
       "\n",
       "    .dataframe thead th {\n",
       "        text-align: right;\n",
       "    }\n",
       "</style>\n",
       "<table border=\"1\" class=\"dataframe\">\n",
       "  <thead>\n",
       "    <tr style=\"text-align: right;\">\n",
       "      <th></th>\n",
       "      <th>first</th>\n",
       "      <th>second</th>\n",
       "      <th>third</th>\n",
       "    </tr>\n",
       "  </thead>\n",
       "  <tbody>\n",
       "    <tr>\n",
       "      <th>0</th>\n",
       "      <td>10</td>\n",
       "      <td>20</td>\n",
       "      <td>30</td>\n",
       "    </tr>\n",
       "    <tr>\n",
       "      <th>1</th>\n",
       "      <td>100</td>\n",
       "      <td>200</td>\n",
       "      <td>300</td>\n",
       "    </tr>\n",
       "    <tr>\n",
       "      <th>2</th>\n",
       "      <td>1000</td>\n",
       "      <td>2000</td>\n",
       "      <td>3000</td>\n",
       "    </tr>\n",
       "  </tbody>\n",
       "</table>\n",
       "</div>"
      ],
      "text/plain": [
       "   first  second  third\n",
       "0     10      20     30\n",
       "1    100     200    300\n",
       "2   1000    2000   3000"
      ]
     },
     "execution_count": 39,
     "metadata": {},
     "output_type": "execute_result"
    }
   ],
   "source": [
    "df_1"
   ]
  },
  {
   "cell_type": "code",
   "execution_count": 40,
   "id": "f62bffed",
   "metadata": {},
   "outputs": [],
   "source": [
    "cl1 = [\"Ahmed\",2000,1500, 1200558899,\"cl1@gmail.com\",\"Yes\"]\n",
    "cl2 = [\"Mohamed\",3000,2500,1200995782,\"cl2@gmail.com\",\"No\"]\n",
    "cl3 = [\"Mahmoud\",5000,2000,1129357196,\"cl3@gmail.com\",\"Yes\"]\n",
    "cl4 = [\"Khalid\",4000,1000,123941594,\"cl4@gmail.com\",\"Yes\"]\n",
    "cl5 = [\"Tarek\",3500,3000,1559313188,\"cl5@gmail.com\",\"No\"]"
   ]
  },
  {
   "cell_type": "code",
   "execution_count": 41,
   "id": "71f4116f",
   "metadata": {},
   "outputs": [],
   "source": [
    "df_2 = pd.DataFrame([cl1,cl2,cl3,cl4,cl5],columns = [\"Name\",\"Income\",\"WithDraw\",\"Phone\",\"Email\",\"Active\"])"
   ]
  },
  {
   "cell_type": "code",
   "execution_count": 42,
   "id": "aa363d45",
   "metadata": {},
   "outputs": [
    {
     "data": {
      "text/html": [
       "<div>\n",
       "<style scoped>\n",
       "    .dataframe tbody tr th:only-of-type {\n",
       "        vertical-align: middle;\n",
       "    }\n",
       "\n",
       "    .dataframe tbody tr th {\n",
       "        vertical-align: top;\n",
       "    }\n",
       "\n",
       "    .dataframe thead th {\n",
       "        text-align: right;\n",
       "    }\n",
       "</style>\n",
       "<table border=\"1\" class=\"dataframe\">\n",
       "  <thead>\n",
       "    <tr style=\"text-align: right;\">\n",
       "      <th></th>\n",
       "      <th>Name</th>\n",
       "      <th>Income</th>\n",
       "      <th>WithDraw</th>\n",
       "      <th>Phone</th>\n",
       "      <th>Email</th>\n",
       "      <th>Active</th>\n",
       "    </tr>\n",
       "  </thead>\n",
       "  <tbody>\n",
       "    <tr>\n",
       "      <th>0</th>\n",
       "      <td>Ahmed</td>\n",
       "      <td>2000</td>\n",
       "      <td>1500</td>\n",
       "      <td>1200558899</td>\n",
       "      <td>cl1@gmail.com</td>\n",
       "      <td>Yes</td>\n",
       "    </tr>\n",
       "    <tr>\n",
       "      <th>1</th>\n",
       "      <td>Mohamed</td>\n",
       "      <td>3000</td>\n",
       "      <td>2500</td>\n",
       "      <td>1200995782</td>\n",
       "      <td>cl2@gmail.com</td>\n",
       "      <td>No</td>\n",
       "    </tr>\n",
       "    <tr>\n",
       "      <th>2</th>\n",
       "      <td>Mahmoud</td>\n",
       "      <td>5000</td>\n",
       "      <td>2000</td>\n",
       "      <td>1129357196</td>\n",
       "      <td>cl3@gmail.com</td>\n",
       "      <td>Yes</td>\n",
       "    </tr>\n",
       "    <tr>\n",
       "      <th>3</th>\n",
       "      <td>Khalid</td>\n",
       "      <td>4000</td>\n",
       "      <td>1000</td>\n",
       "      <td>123941594</td>\n",
       "      <td>cl4@gmail.com</td>\n",
       "      <td>Yes</td>\n",
       "    </tr>\n",
       "    <tr>\n",
       "      <th>4</th>\n",
       "      <td>Tarek</td>\n",
       "      <td>3500</td>\n",
       "      <td>3000</td>\n",
       "      <td>1559313188</td>\n",
       "      <td>cl5@gmail.com</td>\n",
       "      <td>No</td>\n",
       "    </tr>\n",
       "  </tbody>\n",
       "</table>\n",
       "</div>"
      ],
      "text/plain": [
       "      Name  Income  WithDraw       Phone          Email Active\n",
       "0    Ahmed    2000      1500  1200558899  cl1@gmail.com    Yes\n",
       "1  Mohamed    3000      2500  1200995782  cl2@gmail.com     No\n",
       "2  Mahmoud    5000      2000  1129357196  cl3@gmail.com    Yes\n",
       "3   Khalid    4000      1000   123941594  cl4@gmail.com    Yes\n",
       "4    Tarek    3500      3000  1559313188  cl5@gmail.com     No"
      ]
     },
     "execution_count": 42,
     "metadata": {},
     "output_type": "execute_result"
    }
   ],
   "source": [
    "df_2"
   ]
  },
  {
   "cell_type": "code",
   "execution_count": 43,
   "id": "85b23637",
   "metadata": {},
   "outputs": [
    {
     "name": "stdout",
     "output_type": "stream",
     "text": [
      "<class 'pandas.core.frame.DataFrame'>\n",
      "RangeIndex: 5 entries, 0 to 4\n",
      "Data columns (total 6 columns):\n",
      " #   Column    Non-Null Count  Dtype \n",
      "---  ------    --------------  ----- \n",
      " 0   Name      5 non-null      object\n",
      " 1   Income    5 non-null      int64 \n",
      " 2   WithDraw  5 non-null      int64 \n",
      " 3   Phone     5 non-null      int64 \n",
      " 4   Email     5 non-null      object\n",
      " 5   Active    5 non-null      object\n",
      "dtypes: int64(3), object(3)\n",
      "memory usage: 368.0+ bytes\n"
     ]
    }
   ],
   "source": [
    "df_2.info()"
   ]
  },
  {
   "cell_type": "code",
   "execution_count": 44,
   "id": "4d1b4a31",
   "metadata": {},
   "outputs": [
    {
     "data": {
      "text/html": [
       "<div>\n",
       "<style scoped>\n",
       "    .dataframe tbody tr th:only-of-type {\n",
       "        vertical-align: middle;\n",
       "    }\n",
       "\n",
       "    .dataframe tbody tr th {\n",
       "        vertical-align: top;\n",
       "    }\n",
       "\n",
       "    .dataframe thead th {\n",
       "        text-align: right;\n",
       "    }\n",
       "</style>\n",
       "<table border=\"1\" class=\"dataframe\">\n",
       "  <thead>\n",
       "    <tr style=\"text-align: right;\">\n",
       "      <th></th>\n",
       "      <th>Name</th>\n",
       "      <th>Income</th>\n",
       "      <th>WithDraw</th>\n",
       "      <th>Phone</th>\n",
       "      <th>Email</th>\n",
       "      <th>Active</th>\n",
       "    </tr>\n",
       "  </thead>\n",
       "  <tbody>\n",
       "    <tr>\n",
       "      <th>0</th>\n",
       "      <td>False</td>\n",
       "      <td>False</td>\n",
       "      <td>False</td>\n",
       "      <td>False</td>\n",
       "      <td>False</td>\n",
       "      <td>False</td>\n",
       "    </tr>\n",
       "    <tr>\n",
       "      <th>1</th>\n",
       "      <td>False</td>\n",
       "      <td>False</td>\n",
       "      <td>False</td>\n",
       "      <td>False</td>\n",
       "      <td>False</td>\n",
       "      <td>False</td>\n",
       "    </tr>\n",
       "    <tr>\n",
       "      <th>2</th>\n",
       "      <td>False</td>\n",
       "      <td>False</td>\n",
       "      <td>False</td>\n",
       "      <td>False</td>\n",
       "      <td>False</td>\n",
       "      <td>False</td>\n",
       "    </tr>\n",
       "    <tr>\n",
       "      <th>3</th>\n",
       "      <td>False</td>\n",
       "      <td>False</td>\n",
       "      <td>False</td>\n",
       "      <td>False</td>\n",
       "      <td>False</td>\n",
       "      <td>False</td>\n",
       "    </tr>\n",
       "    <tr>\n",
       "      <th>4</th>\n",
       "      <td>False</td>\n",
       "      <td>False</td>\n",
       "      <td>False</td>\n",
       "      <td>False</td>\n",
       "      <td>False</td>\n",
       "      <td>False</td>\n",
       "    </tr>\n",
       "  </tbody>\n",
       "</table>\n",
       "</div>"
      ],
      "text/plain": [
       "    Name  Income  WithDraw  Phone  Email  Active\n",
       "0  False   False     False  False  False   False\n",
       "1  False   False     False  False  False   False\n",
       "2  False   False     False  False  False   False\n",
       "3  False   False     False  False  False   False\n",
       "4  False   False     False  False  False   False"
      ]
     },
     "execution_count": 44,
     "metadata": {},
     "output_type": "execute_result"
    }
   ],
   "source": [
    "df_2.isna()"
   ]
  },
  {
   "cell_type": "code",
   "execution_count": 45,
   "id": "0288d324",
   "metadata": {},
   "outputs": [
    {
     "data": {
      "text/plain": [
       "Name        0\n",
       "Income      0\n",
       "WithDraw    0\n",
       "Phone       0\n",
       "Email       0\n",
       "Active      0\n",
       "dtype: int64"
      ]
     },
     "execution_count": 45,
     "metadata": {},
     "output_type": "execute_result"
    }
   ],
   "source": [
    "df_2.isna().sum()"
   ]
  },
  {
   "cell_type": "code",
   "execution_count": 46,
   "id": "34386eec",
   "metadata": {},
   "outputs": [
    {
     "data": {
      "text/html": [
       "<div>\n",
       "<style scoped>\n",
       "    .dataframe tbody tr th:only-of-type {\n",
       "        vertical-align: middle;\n",
       "    }\n",
       "\n",
       "    .dataframe tbody tr th {\n",
       "        vertical-align: top;\n",
       "    }\n",
       "\n",
       "    .dataframe thead th {\n",
       "        text-align: right;\n",
       "    }\n",
       "</style>\n",
       "<table border=\"1\" class=\"dataframe\">\n",
       "  <thead>\n",
       "    <tr style=\"text-align: right;\">\n",
       "      <th></th>\n",
       "      <th>Income</th>\n",
       "      <th>WithDraw</th>\n",
       "      <th>Phone</th>\n",
       "    </tr>\n",
       "  </thead>\n",
       "  <tbody>\n",
       "    <tr>\n",
       "      <th>count</th>\n",
       "      <td>5.000000</td>\n",
       "      <td>5.000000</td>\n",
       "      <td>5.000000e+00</td>\n",
       "    </tr>\n",
       "    <tr>\n",
       "      <th>mean</th>\n",
       "      <td>3500.000000</td>\n",
       "      <td>2000.000000</td>\n",
       "      <td>1.042833e+09</td>\n",
       "    </tr>\n",
       "    <tr>\n",
       "      <th>std</th>\n",
       "      <td>1118.033989</td>\n",
       "      <td>790.569415</td>\n",
       "      <td>5.404842e+08</td>\n",
       "    </tr>\n",
       "    <tr>\n",
       "      <th>min</th>\n",
       "      <td>2000.000000</td>\n",
       "      <td>1000.000000</td>\n",
       "      <td>1.239416e+08</td>\n",
       "    </tr>\n",
       "    <tr>\n",
       "      <th>25%</th>\n",
       "      <td>3000.000000</td>\n",
       "      <td>1500.000000</td>\n",
       "      <td>1.129357e+09</td>\n",
       "    </tr>\n",
       "    <tr>\n",
       "      <th>50%</th>\n",
       "      <td>3500.000000</td>\n",
       "      <td>2000.000000</td>\n",
       "      <td>1.200559e+09</td>\n",
       "    </tr>\n",
       "    <tr>\n",
       "      <th>75%</th>\n",
       "      <td>4000.000000</td>\n",
       "      <td>2500.000000</td>\n",
       "      <td>1.200996e+09</td>\n",
       "    </tr>\n",
       "    <tr>\n",
       "      <th>max</th>\n",
       "      <td>5000.000000</td>\n",
       "      <td>3000.000000</td>\n",
       "      <td>1.559313e+09</td>\n",
       "    </tr>\n",
       "  </tbody>\n",
       "</table>\n",
       "</div>"
      ],
      "text/plain": [
       "            Income     WithDraw         Phone\n",
       "count     5.000000     5.000000  5.000000e+00\n",
       "mean   3500.000000  2000.000000  1.042833e+09\n",
       "std    1118.033989   790.569415  5.404842e+08\n",
       "min    2000.000000  1000.000000  1.239416e+08\n",
       "25%    3000.000000  1500.000000  1.129357e+09\n",
       "50%    3500.000000  2000.000000  1.200559e+09\n",
       "75%    4000.000000  2500.000000  1.200996e+09\n",
       "max    5000.000000  3000.000000  1.559313e+09"
      ]
     },
     "execution_count": 46,
     "metadata": {},
     "output_type": "execute_result"
    }
   ],
   "source": [
    "df_2.describe()"
   ]
  },
  {
   "cell_type": "code",
   "execution_count": 47,
   "id": "17307105",
   "metadata": {},
   "outputs": [
    {
     "data": {
      "text/plain": [
       "0      Ahmed\n",
       "1    Mohamed\n",
       "2    Mahmoud\n",
       "3     Khalid\n",
       "4      Tarek\n",
       "Name: Name, dtype: object"
      ]
     },
     "execution_count": 47,
     "metadata": {},
     "output_type": "execute_result"
    }
   ],
   "source": [
    "df_2[\"Name\"]"
   ]
  },
  {
   "cell_type": "code",
   "execution_count": 48,
   "id": "4714cefa",
   "metadata": {},
   "outputs": [
    {
     "data": {
      "text/plain": [
       "0    cl1@gmail.com\n",
       "1    cl2@gmail.com\n",
       "2    cl3@gmail.com\n",
       "3    cl4@gmail.com\n",
       "4    cl5@gmail.com\n",
       "Name: Email, dtype: object"
      ]
     },
     "execution_count": 48,
     "metadata": {},
     "output_type": "execute_result"
    }
   ],
   "source": [
    "df_2[\"Email\"]"
   ]
  },
  {
   "cell_type": "code",
   "execution_count": 49,
   "id": "1f2fba78",
   "metadata": {},
   "outputs": [
    {
     "data": {
      "text/plain": [
       "count                 5\n",
       "unique                5\n",
       "top       cl1@gmail.com\n",
       "freq                  1\n",
       "Name: Email, dtype: object"
      ]
     },
     "execution_count": 49,
     "metadata": {},
     "output_type": "execute_result"
    }
   ],
   "source": [
    "df_2[\"Email\"].describe()"
   ]
  },
  {
   "cell_type": "code",
   "execution_count": 50,
   "id": "b0c8a122",
   "metadata": {},
   "outputs": [
    {
     "data": {
      "text/html": [
       "<div>\n",
       "<style scoped>\n",
       "    .dataframe tbody tr th:only-of-type {\n",
       "        vertical-align: middle;\n",
       "    }\n",
       "\n",
       "    .dataframe tbody tr th {\n",
       "        vertical-align: top;\n",
       "    }\n",
       "\n",
       "    .dataframe thead th {\n",
       "        text-align: right;\n",
       "    }\n",
       "</style>\n",
       "<table border=\"1\" class=\"dataframe\">\n",
       "  <thead>\n",
       "    <tr style=\"text-align: right;\">\n",
       "      <th></th>\n",
       "      <th>Name</th>\n",
       "      <th>Income</th>\n",
       "      <th>WithDraw</th>\n",
       "      <th>Phone</th>\n",
       "    </tr>\n",
       "  </thead>\n",
       "  <tbody>\n",
       "    <tr>\n",
       "      <th>0</th>\n",
       "      <td>Ahmed</td>\n",
       "      <td>2000</td>\n",
       "      <td>1500</td>\n",
       "      <td>1200558899</td>\n",
       "    </tr>\n",
       "    <tr>\n",
       "      <th>1</th>\n",
       "      <td>Mohamed</td>\n",
       "      <td>3000</td>\n",
       "      <td>2500</td>\n",
       "      <td>1200995782</td>\n",
       "    </tr>\n",
       "    <tr>\n",
       "      <th>2</th>\n",
       "      <td>Mahmoud</td>\n",
       "      <td>5000</td>\n",
       "      <td>2000</td>\n",
       "      <td>1129357196</td>\n",
       "    </tr>\n",
       "    <tr>\n",
       "      <th>3</th>\n",
       "      <td>Khalid</td>\n",
       "      <td>4000</td>\n",
       "      <td>1000</td>\n",
       "      <td>123941594</td>\n",
       "    </tr>\n",
       "  </tbody>\n",
       "</table>\n",
       "</div>"
      ],
      "text/plain": [
       "      Name  Income  WithDraw       Phone\n",
       "0    Ahmed    2000      1500  1200558899\n",
       "1  Mohamed    3000      2500  1200995782\n",
       "2  Mahmoud    5000      2000  1129357196\n",
       "3   Khalid    4000      1000   123941594"
      ]
     },
     "execution_count": 50,
     "metadata": {},
     "output_type": "execute_result"
    }
   ],
   "source": [
    "df_2.loc[0:3,\"Name\":\"Phone\"]"
   ]
  },
  {
   "cell_type": "code",
   "execution_count": 51,
   "id": "df577507",
   "metadata": {},
   "outputs": [
    {
     "data": {
      "text/html": [
       "<div>\n",
       "<style scoped>\n",
       "    .dataframe tbody tr th:only-of-type {\n",
       "        vertical-align: middle;\n",
       "    }\n",
       "\n",
       "    .dataframe tbody tr th {\n",
       "        vertical-align: top;\n",
       "    }\n",
       "\n",
       "    .dataframe thead th {\n",
       "        text-align: right;\n",
       "    }\n",
       "</style>\n",
       "<table border=\"1\" class=\"dataframe\">\n",
       "  <thead>\n",
       "    <tr style=\"text-align: right;\">\n",
       "      <th></th>\n",
       "      <th>Name</th>\n",
       "      <th>Income</th>\n",
       "      <th>WithDraw</th>\n",
       "      <th>Phone</th>\n",
       "    </tr>\n",
       "  </thead>\n",
       "  <tbody>\n",
       "    <tr>\n",
       "      <th>0</th>\n",
       "      <td>Ahmed</td>\n",
       "      <td>2000</td>\n",
       "      <td>1500</td>\n",
       "      <td>1200558899</td>\n",
       "    </tr>\n",
       "    <tr>\n",
       "      <th>1</th>\n",
       "      <td>Mohamed</td>\n",
       "      <td>3000</td>\n",
       "      <td>2500</td>\n",
       "      <td>1200995782</td>\n",
       "    </tr>\n",
       "    <tr>\n",
       "      <th>2</th>\n",
       "      <td>Mahmoud</td>\n",
       "      <td>5000</td>\n",
       "      <td>2000</td>\n",
       "      <td>1129357196</td>\n",
       "    </tr>\n",
       "    <tr>\n",
       "      <th>3</th>\n",
       "      <td>Khalid</td>\n",
       "      <td>4000</td>\n",
       "      <td>1000</td>\n",
       "      <td>123941594</td>\n",
       "    </tr>\n",
       "  </tbody>\n",
       "</table>\n",
       "</div>"
      ],
      "text/plain": [
       "      Name  Income  WithDraw       Phone\n",
       "0    Ahmed    2000      1500  1200558899\n",
       "1  Mohamed    3000      2500  1200995782\n",
       "2  Mahmoud    5000      2000  1129357196\n",
       "3   Khalid    4000      1000   123941594"
      ]
     },
     "execution_count": 51,
     "metadata": {},
     "output_type": "execute_result"
    }
   ],
   "source": [
    "df_2.iloc[0:4,0:4]"
   ]
  },
  {
   "cell_type": "code",
   "execution_count": 52,
   "id": "3917640e",
   "metadata": {},
   "outputs": [
    {
     "data": {
      "text/html": [
       "<div>\n",
       "<style scoped>\n",
       "    .dataframe tbody tr th:only-of-type {\n",
       "        vertical-align: middle;\n",
       "    }\n",
       "\n",
       "    .dataframe tbody tr th {\n",
       "        vertical-align: top;\n",
       "    }\n",
       "\n",
       "    .dataframe thead th {\n",
       "        text-align: right;\n",
       "    }\n",
       "</style>\n",
       "<table border=\"1\" class=\"dataframe\">\n",
       "  <thead>\n",
       "    <tr style=\"text-align: right;\">\n",
       "      <th></th>\n",
       "      <th>Name</th>\n",
       "      <th>Income</th>\n",
       "      <th>WithDraw</th>\n",
       "    </tr>\n",
       "  </thead>\n",
       "  <tbody>\n",
       "    <tr>\n",
       "      <th>0</th>\n",
       "      <td>Ahmed</td>\n",
       "      <td>2000</td>\n",
       "      <td>1500</td>\n",
       "    </tr>\n",
       "    <tr>\n",
       "      <th>1</th>\n",
       "      <td>Mohamed</td>\n",
       "      <td>3000</td>\n",
       "      <td>2500</td>\n",
       "    </tr>\n",
       "    <tr>\n",
       "      <th>2</th>\n",
       "      <td>Mahmoud</td>\n",
       "      <td>5000</td>\n",
       "      <td>2000</td>\n",
       "    </tr>\n",
       "    <tr>\n",
       "      <th>3</th>\n",
       "      <td>Khalid</td>\n",
       "      <td>4000</td>\n",
       "      <td>1000</td>\n",
       "    </tr>\n",
       "    <tr>\n",
       "      <th>4</th>\n",
       "      <td>Tarek</td>\n",
       "      <td>3500</td>\n",
       "      <td>3000</td>\n",
       "    </tr>\n",
       "  </tbody>\n",
       "</table>\n",
       "</div>"
      ],
      "text/plain": [
       "      Name  Income  WithDraw\n",
       "0    Ahmed    2000      1500\n",
       "1  Mohamed    3000      2500\n",
       "2  Mahmoud    5000      2000\n",
       "3   Khalid    4000      1000\n",
       "4    Tarek    3500      3000"
      ]
     },
     "execution_count": 52,
     "metadata": {},
     "output_type": "execute_result"
    }
   ],
   "source": [
    "df_2.drop([\"Phone\",\"Email\",\"Active\"],axis = 1)"
   ]
  },
  {
   "cell_type": "code",
   "execution_count": 53,
   "id": "bfe84a36",
   "metadata": {},
   "outputs": [
    {
     "data": {
      "text/html": [
       "<div>\n",
       "<style scoped>\n",
       "    .dataframe tbody tr th:only-of-type {\n",
       "        vertical-align: middle;\n",
       "    }\n",
       "\n",
       "    .dataframe tbody tr th {\n",
       "        vertical-align: top;\n",
       "    }\n",
       "\n",
       "    .dataframe thead th {\n",
       "        text-align: right;\n",
       "    }\n",
       "</style>\n",
       "<table border=\"1\" class=\"dataframe\">\n",
       "  <thead>\n",
       "    <tr style=\"text-align: right;\">\n",
       "      <th></th>\n",
       "      <th>Name</th>\n",
       "      <th>Income</th>\n",
       "      <th>WithDraw</th>\n",
       "      <th>Phone</th>\n",
       "      <th>Email</th>\n",
       "      <th>Active</th>\n",
       "    </tr>\n",
       "  </thead>\n",
       "  <tbody>\n",
       "    <tr>\n",
       "      <th>1</th>\n",
       "      <td>Mohamed</td>\n",
       "      <td>3000</td>\n",
       "      <td>2500</td>\n",
       "      <td>1200995782</td>\n",
       "      <td>cl2@gmail.com</td>\n",
       "      <td>No</td>\n",
       "    </tr>\n",
       "    <tr>\n",
       "      <th>2</th>\n",
       "      <td>Mahmoud</td>\n",
       "      <td>5000</td>\n",
       "      <td>2000</td>\n",
       "      <td>1129357196</td>\n",
       "      <td>cl3@gmail.com</td>\n",
       "      <td>Yes</td>\n",
       "    </tr>\n",
       "  </tbody>\n",
       "</table>\n",
       "</div>"
      ],
      "text/plain": [
       "      Name  Income  WithDraw       Phone          Email Active\n",
       "1  Mohamed    3000      2500  1200995782  cl2@gmail.com     No\n",
       "2  Mahmoud    5000      2000  1129357196  cl3@gmail.com    Yes"
      ]
     },
     "execution_count": 53,
     "metadata": {},
     "output_type": "execute_result"
    }
   ],
   "source": [
    "df_2.drop([0,3,4],axis = 0)"
   ]
  },
  {
   "cell_type": "markdown",
   "id": "18fd8d47",
   "metadata": {},
   "source": [
    "# select_dtypes"
   ]
  },
  {
   "cell_type": "code",
   "execution_count": 54,
   "id": "47d55715",
   "metadata": {},
   "outputs": [],
   "source": [
    "dt_select = df_2.select_dtypes(include = [\"object\"])"
   ]
  },
  {
   "cell_type": "code",
   "execution_count": 55,
   "id": "2fd3b710",
   "metadata": {},
   "outputs": [
    {
     "data": {
      "text/html": [
       "<div>\n",
       "<style scoped>\n",
       "    .dataframe tbody tr th:only-of-type {\n",
       "        vertical-align: middle;\n",
       "    }\n",
       "\n",
       "    .dataframe tbody tr th {\n",
       "        vertical-align: top;\n",
       "    }\n",
       "\n",
       "    .dataframe thead th {\n",
       "        text-align: right;\n",
       "    }\n",
       "</style>\n",
       "<table border=\"1\" class=\"dataframe\">\n",
       "  <thead>\n",
       "    <tr style=\"text-align: right;\">\n",
       "      <th></th>\n",
       "      <th>Name</th>\n",
       "      <th>Email</th>\n",
       "      <th>Active</th>\n",
       "    </tr>\n",
       "  </thead>\n",
       "  <tbody>\n",
       "    <tr>\n",
       "      <th>0</th>\n",
       "      <td>Ahmed</td>\n",
       "      <td>cl1@gmail.com</td>\n",
       "      <td>Yes</td>\n",
       "    </tr>\n",
       "    <tr>\n",
       "      <th>1</th>\n",
       "      <td>Mohamed</td>\n",
       "      <td>cl2@gmail.com</td>\n",
       "      <td>No</td>\n",
       "    </tr>\n",
       "    <tr>\n",
       "      <th>2</th>\n",
       "      <td>Mahmoud</td>\n",
       "      <td>cl3@gmail.com</td>\n",
       "      <td>Yes</td>\n",
       "    </tr>\n",
       "    <tr>\n",
       "      <th>3</th>\n",
       "      <td>Khalid</td>\n",
       "      <td>cl4@gmail.com</td>\n",
       "      <td>Yes</td>\n",
       "    </tr>\n",
       "    <tr>\n",
       "      <th>4</th>\n",
       "      <td>Tarek</td>\n",
       "      <td>cl5@gmail.com</td>\n",
       "      <td>No</td>\n",
       "    </tr>\n",
       "  </tbody>\n",
       "</table>\n",
       "</div>"
      ],
      "text/plain": [
       "      Name          Email Active\n",
       "0    Ahmed  cl1@gmail.com    Yes\n",
       "1  Mohamed  cl2@gmail.com     No\n",
       "2  Mahmoud  cl3@gmail.com    Yes\n",
       "3   Khalid  cl4@gmail.com    Yes\n",
       "4    Tarek  cl5@gmail.com     No"
      ]
     },
     "execution_count": 55,
     "metadata": {},
     "output_type": "execute_result"
    }
   ],
   "source": [
    "dt_select"
   ]
  },
  {
   "cell_type": "code",
   "execution_count": 56,
   "id": "82c351b0",
   "metadata": {},
   "outputs": [],
   "source": [
    "dt_select = df_2.select_dtypes(exclude = [\"object\"])"
   ]
  },
  {
   "cell_type": "code",
   "execution_count": 57,
   "id": "82807284",
   "metadata": {},
   "outputs": [
    {
     "data": {
      "text/html": [
       "<div>\n",
       "<style scoped>\n",
       "    .dataframe tbody tr th:only-of-type {\n",
       "        vertical-align: middle;\n",
       "    }\n",
       "\n",
       "    .dataframe tbody tr th {\n",
       "        vertical-align: top;\n",
       "    }\n",
       "\n",
       "    .dataframe thead th {\n",
       "        text-align: right;\n",
       "    }\n",
       "</style>\n",
       "<table border=\"1\" class=\"dataframe\">\n",
       "  <thead>\n",
       "    <tr style=\"text-align: right;\">\n",
       "      <th></th>\n",
       "      <th>Income</th>\n",
       "      <th>WithDraw</th>\n",
       "      <th>Phone</th>\n",
       "    </tr>\n",
       "  </thead>\n",
       "  <tbody>\n",
       "    <tr>\n",
       "      <th>0</th>\n",
       "      <td>2000</td>\n",
       "      <td>1500</td>\n",
       "      <td>1200558899</td>\n",
       "    </tr>\n",
       "    <tr>\n",
       "      <th>1</th>\n",
       "      <td>3000</td>\n",
       "      <td>2500</td>\n",
       "      <td>1200995782</td>\n",
       "    </tr>\n",
       "    <tr>\n",
       "      <th>2</th>\n",
       "      <td>5000</td>\n",
       "      <td>2000</td>\n",
       "      <td>1129357196</td>\n",
       "    </tr>\n",
       "    <tr>\n",
       "      <th>3</th>\n",
       "      <td>4000</td>\n",
       "      <td>1000</td>\n",
       "      <td>123941594</td>\n",
       "    </tr>\n",
       "    <tr>\n",
       "      <th>4</th>\n",
       "      <td>3500</td>\n",
       "      <td>3000</td>\n",
       "      <td>1559313188</td>\n",
       "    </tr>\n",
       "  </tbody>\n",
       "</table>\n",
       "</div>"
      ],
      "text/plain": [
       "   Income  WithDraw       Phone\n",
       "0    2000      1500  1200558899\n",
       "1    3000      2500  1200995782\n",
       "2    5000      2000  1129357196\n",
       "3    4000      1000   123941594\n",
       "4    3500      3000  1559313188"
      ]
     },
     "execution_count": 57,
     "metadata": {},
     "output_type": "execute_result"
    }
   ],
   "source": [
    "dt_select"
   ]
  },
  {
   "cell_type": "markdown",
   "id": "a436281d",
   "metadata": {},
   "source": [
    "# dropna function"
   ]
  },
  {
   "cell_type": "code",
   "execution_count": 58,
   "id": "f3d1992f",
   "metadata": {},
   "outputs": [],
   "source": [
    "cl_1 = [\"Ahmed\",2000,None, 1200558899,\"cl1@gmail.com\",\"Yes\"]\n",
    "cl_2 = [\"Mohamed\",3000,2500,1200995782,\"cl2@gmail.com\",\"No\"]\n",
    "cl_3 = [\"Mahmoud\",5000,2000,1129357196,\"cl3@gmail.com\",\"Yes\"]\n",
    "cl_4 = [\"Khalid\",4000,1000,123941594,None,\"Yes\"]\n",
    "cl_5 = [\"Tarek\",3500,3000,1559313188,\"cl5@gmail.com\",\"No\"]"
   ]
  },
  {
   "cell_type": "code",
   "execution_count": 59,
   "id": "0a21be18",
   "metadata": {},
   "outputs": [],
   "source": [
    "df_3 = pd.DataFrame([cl_1,cl_2,cl_3,cl_4,cl_5],columns = [\"Name\",\"Income\",\"WithDraw\",\"Phone\",\"Email\",\"Active\"])"
   ]
  },
  {
   "cell_type": "code",
   "execution_count": 60,
   "id": "d6956bb5",
   "metadata": {},
   "outputs": [
    {
     "data": {
      "text/html": [
       "<div>\n",
       "<style scoped>\n",
       "    .dataframe tbody tr th:only-of-type {\n",
       "        vertical-align: middle;\n",
       "    }\n",
       "\n",
       "    .dataframe tbody tr th {\n",
       "        vertical-align: top;\n",
       "    }\n",
       "\n",
       "    .dataframe thead th {\n",
       "        text-align: right;\n",
       "    }\n",
       "</style>\n",
       "<table border=\"1\" class=\"dataframe\">\n",
       "  <thead>\n",
       "    <tr style=\"text-align: right;\">\n",
       "      <th></th>\n",
       "      <th>Name</th>\n",
       "      <th>Income</th>\n",
       "      <th>WithDraw</th>\n",
       "      <th>Phone</th>\n",
       "      <th>Email</th>\n",
       "      <th>Active</th>\n",
       "    </tr>\n",
       "  </thead>\n",
       "  <tbody>\n",
       "    <tr>\n",
       "      <th>0</th>\n",
       "      <td>Ahmed</td>\n",
       "      <td>2000</td>\n",
       "      <td>NaN</td>\n",
       "      <td>1200558899</td>\n",
       "      <td>cl1@gmail.com</td>\n",
       "      <td>Yes</td>\n",
       "    </tr>\n",
       "    <tr>\n",
       "      <th>1</th>\n",
       "      <td>Mohamed</td>\n",
       "      <td>3000</td>\n",
       "      <td>2500.0</td>\n",
       "      <td>1200995782</td>\n",
       "      <td>cl2@gmail.com</td>\n",
       "      <td>No</td>\n",
       "    </tr>\n",
       "    <tr>\n",
       "      <th>2</th>\n",
       "      <td>Mahmoud</td>\n",
       "      <td>5000</td>\n",
       "      <td>2000.0</td>\n",
       "      <td>1129357196</td>\n",
       "      <td>cl3@gmail.com</td>\n",
       "      <td>Yes</td>\n",
       "    </tr>\n",
       "    <tr>\n",
       "      <th>3</th>\n",
       "      <td>Khalid</td>\n",
       "      <td>4000</td>\n",
       "      <td>1000.0</td>\n",
       "      <td>123941594</td>\n",
       "      <td>None</td>\n",
       "      <td>Yes</td>\n",
       "    </tr>\n",
       "    <tr>\n",
       "      <th>4</th>\n",
       "      <td>Tarek</td>\n",
       "      <td>3500</td>\n",
       "      <td>3000.0</td>\n",
       "      <td>1559313188</td>\n",
       "      <td>cl5@gmail.com</td>\n",
       "      <td>No</td>\n",
       "    </tr>\n",
       "  </tbody>\n",
       "</table>\n",
       "</div>"
      ],
      "text/plain": [
       "      Name  Income  WithDraw       Phone          Email Active\n",
       "0    Ahmed    2000       NaN  1200558899  cl1@gmail.com    Yes\n",
       "1  Mohamed    3000    2500.0  1200995782  cl2@gmail.com     No\n",
       "2  Mahmoud    5000    2000.0  1129357196  cl3@gmail.com    Yes\n",
       "3   Khalid    4000    1000.0   123941594           None    Yes\n",
       "4    Tarek    3500    3000.0  1559313188  cl5@gmail.com     No"
      ]
     },
     "execution_count": 60,
     "metadata": {},
     "output_type": "execute_result"
    }
   ],
   "source": [
    "df_3"
   ]
  },
  {
   "cell_type": "code",
   "execution_count": 61,
   "id": "d9970451",
   "metadata": {},
   "outputs": [],
   "source": [
    "#بتحذف اي صف يحتوي على NaN \n",
    "df_4 = df_3.dropna()"
   ]
  },
  {
   "cell_type": "code",
   "execution_count": 62,
   "id": "e01d806f",
   "metadata": {},
   "outputs": [
    {
     "data": {
      "text/html": [
       "<div>\n",
       "<style scoped>\n",
       "    .dataframe tbody tr th:only-of-type {\n",
       "        vertical-align: middle;\n",
       "    }\n",
       "\n",
       "    .dataframe tbody tr th {\n",
       "        vertical-align: top;\n",
       "    }\n",
       "\n",
       "    .dataframe thead th {\n",
       "        text-align: right;\n",
       "    }\n",
       "</style>\n",
       "<table border=\"1\" class=\"dataframe\">\n",
       "  <thead>\n",
       "    <tr style=\"text-align: right;\">\n",
       "      <th></th>\n",
       "      <th>Name</th>\n",
       "      <th>Income</th>\n",
       "      <th>WithDraw</th>\n",
       "      <th>Phone</th>\n",
       "      <th>Email</th>\n",
       "      <th>Active</th>\n",
       "    </tr>\n",
       "  </thead>\n",
       "  <tbody>\n",
       "    <tr>\n",
       "      <th>1</th>\n",
       "      <td>Mohamed</td>\n",
       "      <td>3000</td>\n",
       "      <td>2500.0</td>\n",
       "      <td>1200995782</td>\n",
       "      <td>cl2@gmail.com</td>\n",
       "      <td>No</td>\n",
       "    </tr>\n",
       "    <tr>\n",
       "      <th>2</th>\n",
       "      <td>Mahmoud</td>\n",
       "      <td>5000</td>\n",
       "      <td>2000.0</td>\n",
       "      <td>1129357196</td>\n",
       "      <td>cl3@gmail.com</td>\n",
       "      <td>Yes</td>\n",
       "    </tr>\n",
       "    <tr>\n",
       "      <th>4</th>\n",
       "      <td>Tarek</td>\n",
       "      <td>3500</td>\n",
       "      <td>3000.0</td>\n",
       "      <td>1559313188</td>\n",
       "      <td>cl5@gmail.com</td>\n",
       "      <td>No</td>\n",
       "    </tr>\n",
       "  </tbody>\n",
       "</table>\n",
       "</div>"
      ],
      "text/plain": [
       "      Name  Income  WithDraw       Phone          Email Active\n",
       "1  Mohamed    3000    2500.0  1200995782  cl2@gmail.com     No\n",
       "2  Mahmoud    5000    2000.0  1129357196  cl3@gmail.com    Yes\n",
       "4    Tarek    3500    3000.0  1559313188  cl5@gmail.com     No"
      ]
     },
     "execution_count": 62,
     "metadata": {},
     "output_type": "execute_result"
    }
   ],
   "source": [
    "df_4"
   ]
  },
  {
   "cell_type": "markdown",
   "id": "b862b115",
   "metadata": {},
   "source": [
    "# fillna function"
   ]
  },
  {
   "cell_type": "code",
   "execution_count": 63,
   "id": "942e98c7",
   "metadata": {},
   "outputs": [],
   "source": [
    "df_3.fillna(0,inplace = True)"
   ]
  },
  {
   "cell_type": "code",
   "execution_count": 64,
   "id": "bb02ed52",
   "metadata": {},
   "outputs": [
    {
     "data": {
      "text/html": [
       "<div>\n",
       "<style scoped>\n",
       "    .dataframe tbody tr th:only-of-type {\n",
       "        vertical-align: middle;\n",
       "    }\n",
       "\n",
       "    .dataframe tbody tr th {\n",
       "        vertical-align: top;\n",
       "    }\n",
       "\n",
       "    .dataframe thead th {\n",
       "        text-align: right;\n",
       "    }\n",
       "</style>\n",
       "<table border=\"1\" class=\"dataframe\">\n",
       "  <thead>\n",
       "    <tr style=\"text-align: right;\">\n",
       "      <th></th>\n",
       "      <th>Name</th>\n",
       "      <th>Income</th>\n",
       "      <th>WithDraw</th>\n",
       "      <th>Phone</th>\n",
       "      <th>Email</th>\n",
       "      <th>Active</th>\n",
       "    </tr>\n",
       "  </thead>\n",
       "  <tbody>\n",
       "    <tr>\n",
       "      <th>0</th>\n",
       "      <td>Ahmed</td>\n",
       "      <td>2000</td>\n",
       "      <td>0.0</td>\n",
       "      <td>1200558899</td>\n",
       "      <td>cl1@gmail.com</td>\n",
       "      <td>Yes</td>\n",
       "    </tr>\n",
       "    <tr>\n",
       "      <th>1</th>\n",
       "      <td>Mohamed</td>\n",
       "      <td>3000</td>\n",
       "      <td>2500.0</td>\n",
       "      <td>1200995782</td>\n",
       "      <td>cl2@gmail.com</td>\n",
       "      <td>No</td>\n",
       "    </tr>\n",
       "    <tr>\n",
       "      <th>2</th>\n",
       "      <td>Mahmoud</td>\n",
       "      <td>5000</td>\n",
       "      <td>2000.0</td>\n",
       "      <td>1129357196</td>\n",
       "      <td>cl3@gmail.com</td>\n",
       "      <td>Yes</td>\n",
       "    </tr>\n",
       "    <tr>\n",
       "      <th>3</th>\n",
       "      <td>Khalid</td>\n",
       "      <td>4000</td>\n",
       "      <td>1000.0</td>\n",
       "      <td>123941594</td>\n",
       "      <td>0</td>\n",
       "      <td>Yes</td>\n",
       "    </tr>\n",
       "    <tr>\n",
       "      <th>4</th>\n",
       "      <td>Tarek</td>\n",
       "      <td>3500</td>\n",
       "      <td>3000.0</td>\n",
       "      <td>1559313188</td>\n",
       "      <td>cl5@gmail.com</td>\n",
       "      <td>No</td>\n",
       "    </tr>\n",
       "  </tbody>\n",
       "</table>\n",
       "</div>"
      ],
      "text/plain": [
       "      Name  Income  WithDraw       Phone          Email Active\n",
       "0    Ahmed    2000       0.0  1200558899  cl1@gmail.com    Yes\n",
       "1  Mohamed    3000    2500.0  1200995782  cl2@gmail.com     No\n",
       "2  Mahmoud    5000    2000.0  1129357196  cl3@gmail.com    Yes\n",
       "3   Khalid    4000    1000.0   123941594              0    Yes\n",
       "4    Tarek    3500    3000.0  1559313188  cl5@gmail.com     No"
      ]
     },
     "execution_count": 64,
     "metadata": {},
     "output_type": "execute_result"
    }
   ],
   "source": [
    "df_3"
   ]
  },
  {
   "cell_type": "markdown",
   "id": "38788395",
   "metadata": {},
   "source": [
    "# concat function"
   ]
  },
  {
   "cell_type": "code",
   "execution_count": 65,
   "id": "04dd2b1a",
   "metadata": {},
   "outputs": [],
   "source": [
    "job_data = [['Accountant'],['Driver'],['Develober'],['Engineer'],['Doctor']]"
   ]
  },
  {
   "cell_type": "code",
   "execution_count": 66,
   "id": "7bb184bd",
   "metadata": {},
   "outputs": [],
   "source": [
    "job = pd.DataFrame (job_data,columns = ['job'])"
   ]
  },
  {
   "cell_type": "code",
   "execution_count": 67,
   "id": "3a3be7de",
   "metadata": {},
   "outputs": [],
   "source": [
    "data_con = pd.concat ([df_3,job],axis = 1)"
   ]
  },
  {
   "cell_type": "code",
   "execution_count": 68,
   "id": "a87b1075",
   "metadata": {},
   "outputs": [
    {
     "data": {
      "text/html": [
       "<div>\n",
       "<style scoped>\n",
       "    .dataframe tbody tr th:only-of-type {\n",
       "        vertical-align: middle;\n",
       "    }\n",
       "\n",
       "    .dataframe tbody tr th {\n",
       "        vertical-align: top;\n",
       "    }\n",
       "\n",
       "    .dataframe thead th {\n",
       "        text-align: right;\n",
       "    }\n",
       "</style>\n",
       "<table border=\"1\" class=\"dataframe\">\n",
       "  <thead>\n",
       "    <tr style=\"text-align: right;\">\n",
       "      <th></th>\n",
       "      <th>Name</th>\n",
       "      <th>Income</th>\n",
       "      <th>WithDraw</th>\n",
       "      <th>Phone</th>\n",
       "      <th>Email</th>\n",
       "      <th>Active</th>\n",
       "      <th>job</th>\n",
       "    </tr>\n",
       "  </thead>\n",
       "  <tbody>\n",
       "    <tr>\n",
       "      <th>0</th>\n",
       "      <td>Ahmed</td>\n",
       "      <td>2000</td>\n",
       "      <td>0.0</td>\n",
       "      <td>1200558899</td>\n",
       "      <td>cl1@gmail.com</td>\n",
       "      <td>Yes</td>\n",
       "      <td>Accountant</td>\n",
       "    </tr>\n",
       "    <tr>\n",
       "      <th>1</th>\n",
       "      <td>Mohamed</td>\n",
       "      <td>3000</td>\n",
       "      <td>2500.0</td>\n",
       "      <td>1200995782</td>\n",
       "      <td>cl2@gmail.com</td>\n",
       "      <td>No</td>\n",
       "      <td>Driver</td>\n",
       "    </tr>\n",
       "    <tr>\n",
       "      <th>2</th>\n",
       "      <td>Mahmoud</td>\n",
       "      <td>5000</td>\n",
       "      <td>2000.0</td>\n",
       "      <td>1129357196</td>\n",
       "      <td>cl3@gmail.com</td>\n",
       "      <td>Yes</td>\n",
       "      <td>Develober</td>\n",
       "    </tr>\n",
       "    <tr>\n",
       "      <th>3</th>\n",
       "      <td>Khalid</td>\n",
       "      <td>4000</td>\n",
       "      <td>1000.0</td>\n",
       "      <td>123941594</td>\n",
       "      <td>0</td>\n",
       "      <td>Yes</td>\n",
       "      <td>Engineer</td>\n",
       "    </tr>\n",
       "    <tr>\n",
       "      <th>4</th>\n",
       "      <td>Tarek</td>\n",
       "      <td>3500</td>\n",
       "      <td>3000.0</td>\n",
       "      <td>1559313188</td>\n",
       "      <td>cl5@gmail.com</td>\n",
       "      <td>No</td>\n",
       "      <td>Doctor</td>\n",
       "    </tr>\n",
       "  </tbody>\n",
       "</table>\n",
       "</div>"
      ],
      "text/plain": [
       "      Name  Income  WithDraw       Phone          Email Active         job\n",
       "0    Ahmed    2000       0.0  1200558899  cl1@gmail.com    Yes  Accountant\n",
       "1  Mohamed    3000    2500.0  1200995782  cl2@gmail.com     No      Driver\n",
       "2  Mahmoud    5000    2000.0  1129357196  cl3@gmail.com    Yes   Develober\n",
       "3   Khalid    4000    1000.0   123941594              0    Yes    Engineer\n",
       "4    Tarek    3500    3000.0  1559313188  cl5@gmail.com     No      Doctor"
      ]
     },
     "execution_count": 68,
     "metadata": {},
     "output_type": "execute_result"
    }
   ],
   "source": [
    "data_con"
   ]
  },
  {
   "cell_type": "markdown",
   "id": "eedf46cd",
   "metadata": {},
   "source": [
    "# insert function"
   ]
  },
  {
   "cell_type": "code",
   "execution_count": 69,
   "id": "4367c21d",
   "metadata": {},
   "outputs": [],
   "source": [
    "data_con.insert (1,\"Level\",[1,2,4,3,1])"
   ]
  },
  {
   "cell_type": "code",
   "execution_count": 70,
   "id": "64a14ba9",
   "metadata": {},
   "outputs": [
    {
     "data": {
      "text/html": [
       "<div>\n",
       "<style scoped>\n",
       "    .dataframe tbody tr th:only-of-type {\n",
       "        vertical-align: middle;\n",
       "    }\n",
       "\n",
       "    .dataframe tbody tr th {\n",
       "        vertical-align: top;\n",
       "    }\n",
       "\n",
       "    .dataframe thead th {\n",
       "        text-align: right;\n",
       "    }\n",
       "</style>\n",
       "<table border=\"1\" class=\"dataframe\">\n",
       "  <thead>\n",
       "    <tr style=\"text-align: right;\">\n",
       "      <th></th>\n",
       "      <th>Name</th>\n",
       "      <th>Level</th>\n",
       "      <th>Income</th>\n",
       "      <th>WithDraw</th>\n",
       "      <th>Phone</th>\n",
       "      <th>Email</th>\n",
       "      <th>Active</th>\n",
       "      <th>job</th>\n",
       "    </tr>\n",
       "  </thead>\n",
       "  <tbody>\n",
       "    <tr>\n",
       "      <th>0</th>\n",
       "      <td>Ahmed</td>\n",
       "      <td>1</td>\n",
       "      <td>2000</td>\n",
       "      <td>0.0</td>\n",
       "      <td>1200558899</td>\n",
       "      <td>cl1@gmail.com</td>\n",
       "      <td>Yes</td>\n",
       "      <td>Accountant</td>\n",
       "    </tr>\n",
       "    <tr>\n",
       "      <th>1</th>\n",
       "      <td>Mohamed</td>\n",
       "      <td>2</td>\n",
       "      <td>3000</td>\n",
       "      <td>2500.0</td>\n",
       "      <td>1200995782</td>\n",
       "      <td>cl2@gmail.com</td>\n",
       "      <td>No</td>\n",
       "      <td>Driver</td>\n",
       "    </tr>\n",
       "    <tr>\n",
       "      <th>2</th>\n",
       "      <td>Mahmoud</td>\n",
       "      <td>4</td>\n",
       "      <td>5000</td>\n",
       "      <td>2000.0</td>\n",
       "      <td>1129357196</td>\n",
       "      <td>cl3@gmail.com</td>\n",
       "      <td>Yes</td>\n",
       "      <td>Develober</td>\n",
       "    </tr>\n",
       "    <tr>\n",
       "      <th>3</th>\n",
       "      <td>Khalid</td>\n",
       "      <td>3</td>\n",
       "      <td>4000</td>\n",
       "      <td>1000.0</td>\n",
       "      <td>123941594</td>\n",
       "      <td>0</td>\n",
       "      <td>Yes</td>\n",
       "      <td>Engineer</td>\n",
       "    </tr>\n",
       "    <tr>\n",
       "      <th>4</th>\n",
       "      <td>Tarek</td>\n",
       "      <td>1</td>\n",
       "      <td>3500</td>\n",
       "      <td>3000.0</td>\n",
       "      <td>1559313188</td>\n",
       "      <td>cl5@gmail.com</td>\n",
       "      <td>No</td>\n",
       "      <td>Doctor</td>\n",
       "    </tr>\n",
       "  </tbody>\n",
       "</table>\n",
       "</div>"
      ],
      "text/plain": [
       "      Name  Level  Income  WithDraw       Phone          Email Active  \\\n",
       "0    Ahmed      1    2000       0.0  1200558899  cl1@gmail.com    Yes   \n",
       "1  Mohamed      2    3000    2500.0  1200995782  cl2@gmail.com     No   \n",
       "2  Mahmoud      4    5000    2000.0  1129357196  cl3@gmail.com    Yes   \n",
       "3   Khalid      3    4000    1000.0   123941594              0    Yes   \n",
       "4    Tarek      1    3500    3000.0  1559313188  cl5@gmail.com     No   \n",
       "\n",
       "          job  \n",
       "0  Accountant  \n",
       "1      Driver  \n",
       "2   Develober  \n",
       "3    Engineer  \n",
       "4      Doctor  "
      ]
     },
     "execution_count": 70,
     "metadata": {},
     "output_type": "execute_result"
    }
   ],
   "source": [
    "data_con"
   ]
  },
  {
   "cell_type": "markdown",
   "id": "35058f71",
   "metadata": {},
   "source": [
    "# merge function"
   ]
  },
  {
   "cell_type": "code",
   "execution_count": 71,
   "id": "d5af8e59",
   "metadata": {},
   "outputs": [],
   "source": [
    "#لو في عمود متكرر بتعمل دمج وتاخده مرة واحدة بس"
   ]
  },
  {
   "cell_type": "code",
   "execution_count": 72,
   "id": "c53eb111",
   "metadata": {},
   "outputs": [],
   "source": [
    "team = [['Mahmoud',20],['Ahmed',25],['Khalid',30],['Mohamed',60],['Tarek',22]]"
   ]
  },
  {
   "cell_type": "code",
   "execution_count": 73,
   "id": "fa394c31",
   "metadata": {},
   "outputs": [],
   "source": [
    "df_team = pd.DataFrame (team,columns = ['Name','Age'])"
   ]
  },
  {
   "cell_type": "code",
   "execution_count": 74,
   "id": "38c4ed75",
   "metadata": {},
   "outputs": [
    {
     "data": {
      "text/html": [
       "<div>\n",
       "<style scoped>\n",
       "    .dataframe tbody tr th:only-of-type {\n",
       "        vertical-align: middle;\n",
       "    }\n",
       "\n",
       "    .dataframe tbody tr th {\n",
       "        vertical-align: top;\n",
       "    }\n",
       "\n",
       "    .dataframe thead th {\n",
       "        text-align: right;\n",
       "    }\n",
       "</style>\n",
       "<table border=\"1\" class=\"dataframe\">\n",
       "  <thead>\n",
       "    <tr style=\"text-align: right;\">\n",
       "      <th></th>\n",
       "      <th>Name</th>\n",
       "      <th>Age</th>\n",
       "    </tr>\n",
       "  </thead>\n",
       "  <tbody>\n",
       "    <tr>\n",
       "      <th>0</th>\n",
       "      <td>Mahmoud</td>\n",
       "      <td>20</td>\n",
       "    </tr>\n",
       "    <tr>\n",
       "      <th>1</th>\n",
       "      <td>Ahmed</td>\n",
       "      <td>25</td>\n",
       "    </tr>\n",
       "    <tr>\n",
       "      <th>2</th>\n",
       "      <td>Khalid</td>\n",
       "      <td>30</td>\n",
       "    </tr>\n",
       "    <tr>\n",
       "      <th>3</th>\n",
       "      <td>Mohamed</td>\n",
       "      <td>60</td>\n",
       "    </tr>\n",
       "    <tr>\n",
       "      <th>4</th>\n",
       "      <td>Tarek</td>\n",
       "      <td>22</td>\n",
       "    </tr>\n",
       "  </tbody>\n",
       "</table>\n",
       "</div>"
      ],
      "text/plain": [
       "      Name  Age\n",
       "0  Mahmoud   20\n",
       "1    Ahmed   25\n",
       "2   Khalid   30\n",
       "3  Mohamed   60\n",
       "4    Tarek   22"
      ]
     },
     "execution_count": 74,
     "metadata": {},
     "output_type": "execute_result"
    }
   ],
   "source": [
    "df_team"
   ]
  },
  {
   "cell_type": "code",
   "execution_count": 75,
   "id": "5e0faa9a",
   "metadata": {},
   "outputs": [],
   "source": [
    "merge = pd.merge(data_con,df_team)"
   ]
  },
  {
   "cell_type": "code",
   "execution_count": 76,
   "id": "e7d4ee6d",
   "metadata": {},
   "outputs": [
    {
     "data": {
      "text/html": [
       "<div>\n",
       "<style scoped>\n",
       "    .dataframe tbody tr th:only-of-type {\n",
       "        vertical-align: middle;\n",
       "    }\n",
       "\n",
       "    .dataframe tbody tr th {\n",
       "        vertical-align: top;\n",
       "    }\n",
       "\n",
       "    .dataframe thead th {\n",
       "        text-align: right;\n",
       "    }\n",
       "</style>\n",
       "<table border=\"1\" class=\"dataframe\">\n",
       "  <thead>\n",
       "    <tr style=\"text-align: right;\">\n",
       "      <th></th>\n",
       "      <th>Name</th>\n",
       "      <th>Level</th>\n",
       "      <th>Income</th>\n",
       "      <th>WithDraw</th>\n",
       "      <th>Phone</th>\n",
       "      <th>Email</th>\n",
       "      <th>Active</th>\n",
       "      <th>job</th>\n",
       "      <th>Age</th>\n",
       "    </tr>\n",
       "  </thead>\n",
       "  <tbody>\n",
       "    <tr>\n",
       "      <th>0</th>\n",
       "      <td>Ahmed</td>\n",
       "      <td>1</td>\n",
       "      <td>2000</td>\n",
       "      <td>0.0</td>\n",
       "      <td>1200558899</td>\n",
       "      <td>cl1@gmail.com</td>\n",
       "      <td>Yes</td>\n",
       "      <td>Accountant</td>\n",
       "      <td>25</td>\n",
       "    </tr>\n",
       "    <tr>\n",
       "      <th>1</th>\n",
       "      <td>Mohamed</td>\n",
       "      <td>2</td>\n",
       "      <td>3000</td>\n",
       "      <td>2500.0</td>\n",
       "      <td>1200995782</td>\n",
       "      <td>cl2@gmail.com</td>\n",
       "      <td>No</td>\n",
       "      <td>Driver</td>\n",
       "      <td>60</td>\n",
       "    </tr>\n",
       "    <tr>\n",
       "      <th>2</th>\n",
       "      <td>Mahmoud</td>\n",
       "      <td>4</td>\n",
       "      <td>5000</td>\n",
       "      <td>2000.0</td>\n",
       "      <td>1129357196</td>\n",
       "      <td>cl3@gmail.com</td>\n",
       "      <td>Yes</td>\n",
       "      <td>Develober</td>\n",
       "      <td>20</td>\n",
       "    </tr>\n",
       "    <tr>\n",
       "      <th>3</th>\n",
       "      <td>Khalid</td>\n",
       "      <td>3</td>\n",
       "      <td>4000</td>\n",
       "      <td>1000.0</td>\n",
       "      <td>123941594</td>\n",
       "      <td>0</td>\n",
       "      <td>Yes</td>\n",
       "      <td>Engineer</td>\n",
       "      <td>30</td>\n",
       "    </tr>\n",
       "    <tr>\n",
       "      <th>4</th>\n",
       "      <td>Tarek</td>\n",
       "      <td>1</td>\n",
       "      <td>3500</td>\n",
       "      <td>3000.0</td>\n",
       "      <td>1559313188</td>\n",
       "      <td>cl5@gmail.com</td>\n",
       "      <td>No</td>\n",
       "      <td>Doctor</td>\n",
       "      <td>22</td>\n",
       "    </tr>\n",
       "  </tbody>\n",
       "</table>\n",
       "</div>"
      ],
      "text/plain": [
       "      Name  Level  Income  WithDraw       Phone          Email Active  \\\n",
       "0    Ahmed      1    2000       0.0  1200558899  cl1@gmail.com    Yes   \n",
       "1  Mohamed      2    3000    2500.0  1200995782  cl2@gmail.com     No   \n",
       "2  Mahmoud      4    5000    2000.0  1129357196  cl3@gmail.com    Yes   \n",
       "3   Khalid      3    4000    1000.0   123941594              0    Yes   \n",
       "4    Tarek      1    3500    3000.0  1559313188  cl5@gmail.com     No   \n",
       "\n",
       "          job  Age  \n",
       "0  Accountant   25  \n",
       "1      Driver   60  \n",
       "2   Develober   20  \n",
       "3    Engineer   30  \n",
       "4      Doctor   22  "
      ]
     },
     "execution_count": 76,
     "metadata": {},
     "output_type": "execute_result"
    }
   ],
   "source": [
    "merge"
   ]
  },
  {
   "cell_type": "code",
   "execution_count": 77,
   "id": "12b6d774",
   "metadata": {},
   "outputs": [],
   "source": [
    "merge.to_csv('merge.csv')"
   ]
  },
  {
   "cell_type": "code",
   "execution_count": 3,
   "id": "623690ca",
   "metadata": {},
   "outputs": [],
   "source": [
    "data = pd.read_csv ('Mahmoud.csv')"
   ]
  },
  {
   "cell_type": "code",
   "execution_count": 4,
   "id": "0ac7a887",
   "metadata": {},
   "outputs": [
    {
     "data": {
      "text/html": [
       "<div>\n",
       "<style scoped>\n",
       "    .dataframe tbody tr th:only-of-type {\n",
       "        vertical-align: middle;\n",
       "    }\n",
       "\n",
       "    .dataframe tbody tr th {\n",
       "        vertical-align: top;\n",
       "    }\n",
       "\n",
       "    .dataframe thead th {\n",
       "        text-align: right;\n",
       "    }\n",
       "</style>\n",
       "<table border=\"1\" class=\"dataframe\">\n",
       "  <thead>\n",
       "    <tr style=\"text-align: right;\">\n",
       "      <th></th>\n",
       "      <th>Unnamed: 0</th>\n",
       "      <th>Name</th>\n",
       "      <th>Level</th>\n",
       "      <th>Income</th>\n",
       "      <th>WithDraw</th>\n",
       "      <th>Phone</th>\n",
       "      <th>Email</th>\n",
       "      <th>Active</th>\n",
       "      <th>job</th>\n",
       "      <th>Age</th>\n",
       "    </tr>\n",
       "  </thead>\n",
       "  <tbody>\n",
       "    <tr>\n",
       "      <th>0</th>\n",
       "      <td>0</td>\n",
       "      <td>Ahmed</td>\n",
       "      <td>1</td>\n",
       "      <td>2000</td>\n",
       "      <td>0.0</td>\n",
       "      <td>1200558899</td>\n",
       "      <td>cl1@gmail.com</td>\n",
       "      <td>Yes</td>\n",
       "      <td>Accountant</td>\n",
       "      <td>25</td>\n",
       "    </tr>\n",
       "    <tr>\n",
       "      <th>1</th>\n",
       "      <td>1</td>\n",
       "      <td>Mohamed</td>\n",
       "      <td>2</td>\n",
       "      <td>3000</td>\n",
       "      <td>2500.0</td>\n",
       "      <td>1200995782</td>\n",
       "      <td>cl2@gmail.com</td>\n",
       "      <td>No</td>\n",
       "      <td>Driver</td>\n",
       "      <td>60</td>\n",
       "    </tr>\n",
       "    <tr>\n",
       "      <th>2</th>\n",
       "      <td>2</td>\n",
       "      <td>Mahmoud</td>\n",
       "      <td>4</td>\n",
       "      <td>5000</td>\n",
       "      <td>2000.0</td>\n",
       "      <td>1129357196</td>\n",
       "      <td>cl3@gmail.com</td>\n",
       "      <td>Yes</td>\n",
       "      <td>Develober</td>\n",
       "      <td>20</td>\n",
       "    </tr>\n",
       "    <tr>\n",
       "      <th>3</th>\n",
       "      <td>3</td>\n",
       "      <td>Khalid</td>\n",
       "      <td>3</td>\n",
       "      <td>4000</td>\n",
       "      <td>1000.0</td>\n",
       "      <td>123941594</td>\n",
       "      <td>0</td>\n",
       "      <td>Yes</td>\n",
       "      <td>Engineer</td>\n",
       "      <td>30</td>\n",
       "    </tr>\n",
       "    <tr>\n",
       "      <th>4</th>\n",
       "      <td>4</td>\n",
       "      <td>Tarek</td>\n",
       "      <td>1</td>\n",
       "      <td>3500</td>\n",
       "      <td>3000.0</td>\n",
       "      <td>1559313188</td>\n",
       "      <td>cl5@gmail.com</td>\n",
       "      <td>No</td>\n",
       "      <td>Doctor</td>\n",
       "      <td>22</td>\n",
       "    </tr>\n",
       "  </tbody>\n",
       "</table>\n",
       "</div>"
      ],
      "text/plain": [
       "   Unnamed: 0     Name  Level  Income  WithDraw       Phone          Email  \\\n",
       "0           0    Ahmed      1    2000       0.0  1200558899  cl1@gmail.com   \n",
       "1           1  Mohamed      2    3000    2500.0  1200995782  cl2@gmail.com   \n",
       "2           2  Mahmoud      4    5000    2000.0  1129357196  cl3@gmail.com   \n",
       "3           3   Khalid      3    4000    1000.0   123941594              0   \n",
       "4           4    Tarek      1    3500    3000.0  1559313188  cl5@gmail.com   \n",
       "\n",
       "  Active         job  Age  \n",
       "0    Yes  Accountant   25  \n",
       "1     No      Driver   60  \n",
       "2    Yes   Develober   20  \n",
       "3    Yes    Engineer   30  \n",
       "4     No      Doctor   22  "
      ]
     },
     "execution_count": 4,
     "metadata": {},
     "output_type": "execute_result"
    }
   ],
   "source": [
    "data"
   ]
  },
  {
   "cell_type": "code",
   "execution_count": null,
   "id": "94ce9614",
   "metadata": {},
   "outputs": [],
   "source": []
  }
 ],
 "metadata": {
  "kernelspec": {
   "display_name": "Python 3 (ipykernel)",
   "language": "python",
   "name": "python3"
  },
  "language_info": {
   "codemirror_mode": {
    "name": "ipython",
    "version": 3
   },
   "file_extension": ".py",
   "mimetype": "text/x-python",
   "name": "python",
   "nbconvert_exporter": "python",
   "pygments_lexer": "ipython3",
   "version": "3.9.7"
  }
 },
 "nbformat": 4,
 "nbformat_minor": 5
}
